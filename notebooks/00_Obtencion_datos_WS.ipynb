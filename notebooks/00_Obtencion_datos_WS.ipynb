{
 "cells": [
  {
   "cell_type": "code",
   "execution_count": 9,
   "metadata": {},
   "outputs": [],
   "source": [
    "import pandas as pd\n",
    "import numpy as np\n",
    "import requests as rq\n",
    "import base64\n",
    "import json\n",
    "from datetime import date\n",
    "from ast import literal_eval"
   ]
  },
  {
   "cell_type": "code",
   "execution_count": null,
   "metadata": {},
   "outputs": [],
   "source": [
    "#Función para conseguir token personalizado\n",
    "\n",
    "def get_token():\n",
    "    '''función para recibir y tratar token \n",
    "    personalizado'''\n",
    "    apikey = '3eapzq3xbe40vhujmed6we5dnv0423yg'\n",
    "    secret = 'xkwbGpL06E5Z'\n",
    "\n",
    "    message = apikey + ':' + secret\n",
    "\n",
    "    auth = 'Basic ' + base64.b64encode(message.encode('ascii')).decode('ascii') #codificar mensaje en base 64\n",
    "    #así preparo las credenciales en formato adecuado requerido por la API para autentificarme\n",
    "\n",
    "    headers_dic = {'Autorization' : auth,\n",
    "                   'Content-Type' : 'application/x-www-form-urlencoded;charset=UTF-8'}\n",
    "    \n",
    "    params_dic = {'grant_type' : 'client_credentials',\n",
    "                  'scope' : 'read'}         #parámetros necesarios para la solicitud Http\n",
    "    \n",
    "    r = rq.post ('https://api.idealista.com/auth/token',  #hacer la llamada al Post\n",
    "                headers = headers_dic,\n",
    "                params = params_dic)\n",
    "    \n",
    "    token = json.loads (r. text) ['access_token']\n",
    "\n",
    "    return token\n",
    "\n"
   ]
  },
  {
   "cell_type": "code",
   "execution_count": 48,
   "metadata": {},
   "outputs": [],
   "source": [
    "#Parámetros para filtrar la búsqueda\n",
    "\n",
    "base_url = 'https://api.idealista.com/3.5/'\n",
    "country = 'es'      # Search country (es, it, pt)\n",
    "language = 'es'         # Search language (es, it, pt, en, ca)\n",
    "max_items = '50'            # Max items per call, the maximum set by Idealista is 50\n",
    "operation = 'sale'          # Kind of operation (sale, rent)\n",
    "property_type = 'homes'      # Type of property (homes, offices, premises, garages, bedrooms)\n",
    "order = 'priceDown'     # Order of the listings, consult documentation for all the available orders\n",
    "center = '40.42693, -3.704072'     # Coordinates of the search center. En este caso, Plaza Dos de Mayo\n",
    "distance = '90000'     # Max distance from the center\n",
    "sort = 'desc'     # How to sort the found items\n",
    "maxprice = '1000000'     # Max price of the listings"
   ]
  },
  {
   "cell_type": "code",
   "execution_count": 49,
   "metadata": {},
   "outputs": [],
   "source": [
    "lugar = 'Pza Dos de Mayo (Madrid)'"
   ]
  },
  {
   "cell_type": "code",
   "execution_count": 50,
   "metadata": {},
   "outputs": [],
   "source": [
    "def define_search_url():\n",
    "    '''Esta función combinará los parámetros con la url, \n",
    "    para crear nuestra búsqueda '''\n",
    "\n",
    "    url = (base_url +\n",
    "           country +\n",
    "           '/search?operation=' + operation +\n",
    "           '&maxItems=' + max_items + \n",
    "           '&order=' + order +\n",
    "           '&center=' + center +\n",
    "           '&distance=' + distance +\n",
    "           '&propertyType=' + property_type +\n",
    "           '&sort=' + sort +\n",
    "           '&numPage=%s' +\n",
    "           '&maxPrice=' + maxprice +\n",
    "           '&language=' + language)\n",
    "    return url"
   ]
  },
  {
   "cell_type": "code",
   "execution_count": 51,
   "metadata": {},
   "outputs": [
    {
     "data": {
      "text/plain": [
       "'https://api.idealista.com/3.5/es/search?operation=sale&maxItems=50&order=priceDown&center=40.42693, -3.704072&distance=90000&propertyType=homes&sort=desc&numPage=%s&maxPrice=1000000&language=es'"
      ]
     },
     "execution_count": 51,
     "metadata": {},
     "output_type": "execute_result"
    }
   ],
   "source": [
    "url = define_search_url()\n",
    "url\n"
   ]
  },
  {
   "cell_type": "code",
   "execution_count": 52,
   "metadata": {},
   "outputs": [],
   "source": [
    "def search_api(url):\n",
    "    '''Esta función usará el token y url creadas antes para devolver los resultados buscados'''\n",
    "\n",
    "    token = get_token ()       # conseguir el token\n",
    "\n",
    "    headers = {'Content-Type': \"Content-Type: multipart/form-data;\",   # Define the search headers\n",
    "               'Authorization' : 'Bearer ' + token}\n",
    "\n",
    "    content = rq.post(url, headers = headers)   # Devolver el contenido de la petición\n",
    "\n",
    "    result = json.loads(content.text)   # Transforma los resultados en un json file\n",
    "\n",
    "    return result"
   ]
  },
  {
   "cell_type": "code",
   "execution_count": 57,
   "metadata": {},
   "outputs": [
    {
     "data": {
      "text/plain": [
       "'https://api.idealista.com/3.5/es/search?operation=sale&maxItems=50&order=priceDown&center=40.42693, -3.704072&distance=90000&propertyType=homes&sort=desc&numPage=1&maxPrice=1000000&language=es'"
      ]
     },
     "execution_count": 57,
     "metadata": {},
     "output_type": "execute_result"
    }
   ],
   "source": [
    "# Vamos a obtener la primera página de la busqueda\n",
    "pagination = 1\n",
    "first_search_url = url %(pagination)\n",
    "\n",
    "first_search_url"
   ]
  },
  {
   "cell_type": "code",
   "execution_count": 55,
   "metadata": {},
   "outputs": [
    {
     "ename": "NameError",
     "evalue": "name 'get_token' is not defined",
     "output_type": "error",
     "traceback": [
      "\u001b[0;31m---------------------------------------------------------------------------\u001b[0m",
      "\u001b[0;31mNameError\u001b[0m                                 Traceback (most recent call last)",
      "Cell \u001b[0;32mIn[55], line 2\u001b[0m\n\u001b[1;32m      1\u001b[0m \u001b[38;5;66;03m#Ahora hacemos la búsqueda con nuestra numeración\u001b[39;00m\n\u001b[0;32m----> 2\u001b[0m results \u001b[38;5;241m=\u001b[39m \u001b[43msearch_api\u001b[49m\u001b[43m(\u001b[49m\u001b[43mfirst_search_url\u001b[49m\u001b[43m)\u001b[49m\n",
      "Cell \u001b[0;32mIn[52], line 4\u001b[0m, in \u001b[0;36msearch_api\u001b[0;34m(url)\u001b[0m\n\u001b[1;32m      1\u001b[0m \u001b[38;5;28;01mdef\u001b[39;00m \u001b[38;5;21msearch_api\u001b[39m(url):\n\u001b[1;32m      2\u001b[0m \u001b[38;5;250m    \u001b[39m\u001b[38;5;124;03m'''Esta función usará el token y url creadas antes para devolver los resultados buscados'''\u001b[39;00m\n\u001b[0;32m----> 4\u001b[0m     token \u001b[38;5;241m=\u001b[39m \u001b[43mget_token\u001b[49m ()       \u001b[38;5;66;03m# conseguir el token\u001b[39;00m\n\u001b[1;32m      6\u001b[0m     headers \u001b[38;5;241m=\u001b[39m {\u001b[38;5;124m'\u001b[39m\u001b[38;5;124mContent-Type\u001b[39m\u001b[38;5;124m'\u001b[39m: \u001b[38;5;124m\"\u001b[39m\u001b[38;5;124mContent-Type: multipart/form-data;\u001b[39m\u001b[38;5;124m\"\u001b[39m,   \u001b[38;5;66;03m# Define the search headers\u001b[39;00m\n\u001b[1;32m      7\u001b[0m                \u001b[38;5;124m'\u001b[39m\u001b[38;5;124mAuthorization\u001b[39m\u001b[38;5;124m'\u001b[39m : \u001b[38;5;124m'\u001b[39m\u001b[38;5;124mBearer \u001b[39m\u001b[38;5;124m'\u001b[39m \u001b[38;5;241m+\u001b[39m token}\n\u001b[1;32m      9\u001b[0m     content \u001b[38;5;241m=\u001b[39m rq\u001b[38;5;241m.\u001b[39mpost(url, headers \u001b[38;5;241m=\u001b[39m headers)   \u001b[38;5;66;03m# Devolver el contenido de la petición\u001b[39;00m\n",
      "\u001b[0;31mNameError\u001b[0m: name 'get_token' is not defined"
     ]
    }
   ],
   "source": [
    "#Ahora hacemos la búsqueda con nuestra numeración\n",
    "results = search_api(first_search_url)"
   ]
  },
  {
   "cell_type": "code",
   "execution_count": null,
   "metadata": {},
   "outputs": [],
   "source": [
    "results"
   ]
  }
 ],
 "metadata": {
  "kernelspec": {
   "display_name": ".venv",
   "language": "python",
   "name": "python3"
  },
  "language_info": {
   "codemirror_mode": {
    "name": "ipython",
    "version": 3
   },
   "file_extension": ".py",
   "mimetype": "text/x-python",
   "name": "python",
   "nbconvert_exporter": "python",
   "pygments_lexer": "ipython3",
   "version": "3.13.0"
  }
 },
 "nbformat": 4,
 "nbformat_minor": 2
}
