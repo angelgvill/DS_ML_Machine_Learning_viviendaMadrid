{
 "cells": [
  {
   "cell_type": "markdown",
   "metadata": {},
   "source": [
    "<a id=\"inicio-notebook\"></a>\n",
    "# Proyecto End to End de Machine Learning \n",
    "### Viviendas en venta en Madrid\n"
   ]
  },
  {
   "cell_type": "markdown",
   "metadata": {},
   "source": [
    "## 0. Librerías\n",
    " "
   ]
  },
  {
   "cell_type": "code",
   "execution_count": 2,
   "metadata": {},
   "outputs": [],
   "source": [
    "# importación agrupada de librerías necesarias en este notebook\n",
    "import pandas as pd\n",
    "import numpy as np\n",
    "\n",
    "\n",
    "import sys\n",
    "import os\n",
    "from datetime import date\n",
    "\n",
    "from scipy import stats\n",
    "from scipy.stats import chi2_contingency\n",
    "from PIL import Image\n",
    "from sklearn.model_selection import train_test_split\n",
    "from sklearn.dummy import DummyRegressor\n",
    "from sklearn.metrics import mean_squared_error, root_mean_squared_error, mean_absolute_percentage_error\n",
    "from sklearn.ensemble import RandomForestRegressor\n",
    "from sklearn.linear_model import LinearRegression, Ridge, Lasso, BayesianRidge\n",
    "from sklearn.ensemble import RandomForestRegressor, GradientBoostingRegressor\n",
    "from sklearn.svm import SVR\n",
    "from sklearn.model_selection import cross_val_score\n",
    "\n",
    "import matplotlib.pyplot as plt\n",
    "import seaborn as sns\n",
    "\n",
    "#warnings.filterwarnings('ignore')\n",
    "\n",
    "# Añado el directorio padre (del que está este notebook) a sys.path\n",
    "sys.path.append(os.path.abspath('../'))\n",
    "from scripts.utils_agv import ini_inspec, crear_tabla_resumen, categoricas, numericas"
   ]
  },
  {
   "cell_type": "markdown",
   "metadata": {},
   "source": [
    "<a id=\"baseline\"></a> \n",
    "## 17. ¿Qué modelos? Baseline"
   ]
  },
  {
   "cell_type": "markdown",
   "metadata": {},
   "source": [
    "(viene del notebook anterior, el conjunto de datos 'test' aquí NUNCA llegan los datos de test) He guardado los dataframe a probar en formato parquet.\n",
    "\n",
    "Primero, importamos el parquet que queremos probar en todos nuestros modelos."
   ]
  },
  {
   "cell_type": "markdown",
   "metadata": {},
   "source": [
    "**Dataframe sin outliers, df5 con las variables o características transformadas con PCA, y limitado al 95% de la varianza explicada**"
   ]
  },
  {
   "cell_type": "code",
   "execution_count": 3,
   "metadata": {},
   "outputs": [],
   "source": [
    "# introduzco aquí el Dataframe en cuestión \n",
    "file = 'train_sinOutliers_df5PCA.parquet'\n",
    "file_path = f'../data/processed/{file}' \n",
    "df = pd.read_parquet(file_path, engine=\"pyarrow\")"
   ]
  },
  {
   "cell_type": "code",
   "execution_count": 5,
   "metadata": {},
   "outputs": [
    {
     "data": {
      "text/html": [
       "<div>\n",
       "<style scoped>\n",
       "    .dataframe tbody tr th:only-of-type {\n",
       "        vertical-align: middle;\n",
       "    }\n",
       "\n",
       "    .dataframe tbody tr th {\n",
       "        vertical-align: top;\n",
       "    }\n",
       "\n",
       "    .dataframe thead th {\n",
       "        text-align: right;\n",
       "    }\n",
       "</style>\n",
       "<table border=\"1\" class=\"dataframe\">\n",
       "  <thead>\n",
       "    <tr style=\"text-align: right;\">\n",
       "      <th></th>\n",
       "      <th>priceLog</th>\n",
       "      <th>PC1</th>\n",
       "      <th>PC2</th>\n",
       "      <th>PC3</th>\n",
       "      <th>PC4</th>\n",
       "      <th>PC5</th>\n",
       "      <th>PC6</th>\n",
       "      <th>PC7</th>\n",
       "      <th>PC8</th>\n",
       "      <th>PC9</th>\n",
       "      <th>PC10</th>\n",
       "      <th>PC11</th>\n",
       "      <th>PC12</th>\n",
       "      <th>PC13</th>\n",
       "      <th>PC14</th>\n",
       "      <th>PC15</th>\n",
       "      <th>PC16</th>\n",
       "      <th>PC17</th>\n",
       "      <th>PC18</th>\n",
       "      <th>PC19</th>\n",
       "    </tr>\n",
       "  </thead>\n",
       "  <tbody>\n",
       "    <tr>\n",
       "      <th>266</th>\n",
       "      <td>NaN</td>\n",
       "      <td>-2.589375</td>\n",
       "      <td>-2.180142</td>\n",
       "      <td>-0.734874</td>\n",
       "      <td>1.165086</td>\n",
       "      <td>1.622402</td>\n",
       "      <td>0.143093</td>\n",
       "      <td>1.410449</td>\n",
       "      <td>2.128023</td>\n",
       "      <td>-1.960854</td>\n",
       "      <td>-0.040363</td>\n",
       "      <td>-2.448746</td>\n",
       "      <td>1.969221</td>\n",
       "      <td>-0.132343</td>\n",
       "      <td>-0.027091</td>\n",
       "      <td>1.803275</td>\n",
       "      <td>0.263932</td>\n",
       "      <td>-1.282930</td>\n",
       "      <td>-1.382426</td>\n",
       "      <td>0.468053</td>\n",
       "    </tr>\n",
       "    <tr>\n",
       "      <th>148</th>\n",
       "      <td>NaN</td>\n",
       "      <td>0.772218</td>\n",
       "      <td>-0.700129</td>\n",
       "      <td>2.249265</td>\n",
       "      <td>0.716457</td>\n",
       "      <td>-1.170738</td>\n",
       "      <td>-1.033582</td>\n",
       "      <td>-0.729153</td>\n",
       "      <td>-0.725162</td>\n",
       "      <td>-0.574743</td>\n",
       "      <td>2.904390</td>\n",
       "      <td>-0.149552</td>\n",
       "      <td>-0.999157</td>\n",
       "      <td>0.018461</td>\n",
       "      <td>0.457075</td>\n",
       "      <td>1.065913</td>\n",
       "      <td>-0.529731</td>\n",
       "      <td>0.278198</td>\n",
       "      <td>-0.219962</td>\n",
       "      <td>0.509898</td>\n",
       "    </tr>\n",
       "    <tr>\n",
       "      <th>381</th>\n",
       "      <td>NaN</td>\n",
       "      <td>-0.678045</td>\n",
       "      <td>-1.918177</td>\n",
       "      <td>-0.379250</td>\n",
       "      <td>4.812497</td>\n",
       "      <td>1.462852</td>\n",
       "      <td>-0.199463</td>\n",
       "      <td>0.153434</td>\n",
       "      <td>1.528753</td>\n",
       "      <td>-0.656853</td>\n",
       "      <td>-0.443019</td>\n",
       "      <td>-2.320066</td>\n",
       "      <td>1.428363</td>\n",
       "      <td>-0.942570</td>\n",
       "      <td>0.849493</td>\n",
       "      <td>-0.620972</td>\n",
       "      <td>-0.058566</td>\n",
       "      <td>0.419488</td>\n",
       "      <td>-0.576519</td>\n",
       "      <td>-0.442424</td>\n",
       "    </tr>\n",
       "    <tr>\n",
       "      <th>755</th>\n",
       "      <td>NaN</td>\n",
       "      <td>0.611564</td>\n",
       "      <td>-1.380023</td>\n",
       "      <td>3.187951</td>\n",
       "      <td>-0.604784</td>\n",
       "      <td>1.492021</td>\n",
       "      <td>1.432620</td>\n",
       "      <td>-0.274512</td>\n",
       "      <td>-0.049679</td>\n",
       "      <td>-0.120778</td>\n",
       "      <td>-1.298209</td>\n",
       "      <td>-0.423730</td>\n",
       "      <td>-1.165701</td>\n",
       "      <td>0.249920</td>\n",
       "      <td>1.104489</td>\n",
       "      <td>0.613019</td>\n",
       "      <td>0.232874</td>\n",
       "      <td>-1.059071</td>\n",
       "      <td>0.336768</td>\n",
       "      <td>-0.079026</td>\n",
       "    </tr>\n",
       "    <tr>\n",
       "      <th>1187</th>\n",
       "      <td>NaN</td>\n",
       "      <td>-0.073253</td>\n",
       "      <td>0.682439</td>\n",
       "      <td>0.267170</td>\n",
       "      <td>-0.630904</td>\n",
       "      <td>1.502209</td>\n",
       "      <td>0.766093</td>\n",
       "      <td>0.469529</td>\n",
       "      <td>0.528624</td>\n",
       "      <td>-0.521298</td>\n",
       "      <td>0.412377</td>\n",
       "      <td>-0.291575</td>\n",
       "      <td>-0.878647</td>\n",
       "      <td>0.807391</td>\n",
       "      <td>0.220767</td>\n",
       "      <td>0.278122</td>\n",
       "      <td>0.411761</td>\n",
       "      <td>-1.412368</td>\n",
       "      <td>1.242303</td>\n",
       "      <td>-1.537338</td>\n",
       "    </tr>\n",
       "  </tbody>\n",
       "</table>\n",
       "</div>"
      ],
      "text/plain": [
       "      priceLog       PC1       PC2       PC3       PC4       PC5       PC6  \\\n",
       "266        NaN -2.589375 -2.180142 -0.734874  1.165086  1.622402  0.143093   \n",
       "148        NaN  0.772218 -0.700129  2.249265  0.716457 -1.170738 -1.033582   \n",
       "381        NaN -0.678045 -1.918177 -0.379250  4.812497  1.462852 -0.199463   \n",
       "755        NaN  0.611564 -1.380023  3.187951 -0.604784  1.492021  1.432620   \n",
       "1187       NaN -0.073253  0.682439  0.267170 -0.630904  1.502209  0.766093   \n",
       "\n",
       "           PC7       PC8       PC9      PC10      PC11      PC12      PC13  \\\n",
       "266   1.410449  2.128023 -1.960854 -0.040363 -2.448746  1.969221 -0.132343   \n",
       "148  -0.729153 -0.725162 -0.574743  2.904390 -0.149552 -0.999157  0.018461   \n",
       "381   0.153434  1.528753 -0.656853 -0.443019 -2.320066  1.428363 -0.942570   \n",
       "755  -0.274512 -0.049679 -0.120778 -1.298209 -0.423730 -1.165701  0.249920   \n",
       "1187  0.469529  0.528624 -0.521298  0.412377 -0.291575 -0.878647  0.807391   \n",
       "\n",
       "          PC14      PC15      PC16      PC17      PC18      PC19  \n",
       "266  -0.027091  1.803275  0.263932 -1.282930 -1.382426  0.468053  \n",
       "148   0.457075  1.065913 -0.529731  0.278198 -0.219962  0.509898  \n",
       "381   0.849493 -0.620972 -0.058566  0.419488 -0.576519 -0.442424  \n",
       "755   1.104489  0.613019  0.232874 -1.059071  0.336768 -0.079026  \n",
       "1187  0.220767  0.278122  0.411761 -1.412368  1.242303 -1.537338  "
      ]
     },
     "execution_count": 5,
     "metadata": {},
     "output_type": "execute_result"
    }
   ],
   "source": [
    "df.head()"
   ]
  },
  {
   "cell_type": "code",
   "execution_count": 4,
   "metadata": {},
   "outputs": [
    {
     "data": {
      "text/plain": [
       "(1337, 11)"
      ]
     },
     "execution_count": 4,
     "metadata": {},
     "output_type": "execute_result"
    }
   ],
   "source": [
    "df.shape"
   ]
  },
  {
   "cell_type": "markdown",
   "metadata": {},
   "source": [
    "Primeramente hago una separación de entrenamiento y validación, para evaluar mis modelos:"
   ]
  },
  {
   "cell_type": "code",
   "execution_count": 5,
   "metadata": {},
   "outputs": [],
   "source": [
    "X = df.drop(['priceLog'], axis=1)  # Eliminamos la variable objetivo\n",
    "y = df['priceLog']"
   ]
  },
  {
   "cell_type": "code",
   "execution_count": 6,
   "metadata": {},
   "outputs": [
    {
     "name": "stdout",
     "output_type": "stream",
     "text": [
      "Tamaño del conjunto de entrenamiento: (1069, 10)\n",
      "Tamaño del conjunto de validación: (268, 10)\n"
     ]
    }
   ],
   "source": [
    "X_train, X_val, y_train, y_val = train_test_split(X, y, test_size=0.2, random_state=42) \n",
    "\n",
    "print(f\"Tamaño del conjunto de entrenamiento: {X_train.shape}\")\n",
    "print(f\"Tamaño del conjunto de validación: {X_val.shape}\")"
   ]
  },
  {
   "cell_type": "code",
   "execution_count": 7,
   "metadata": {},
   "outputs": [
    {
     "name": "stdout",
     "output_type": "stream",
     "text": [
      "RMSE (escala original): 584,693.47 €\n",
      "MAPE (escala original): 73.68 %\n"
     ]
    }
   ],
   "source": [
    "# Modelo Dummy (Baseline)\n",
    "dummy = DummyRegressor(strategy=\"mean\")\n",
    "dummy.fit(X_train, y_train)\n",
    "\n",
    "# Predicción en la escala logarítmica\n",
    "y_pred_dummy_log = dummy.predict(X_val)\n",
    "\n",
    "# Transformar los valores a la escala original\n",
    "y_val_original = np.exp(y_val)  # Revertir log(price)\n",
    "y_pred_dummy_original = np.exp(y_pred_dummy_log)\n",
    "\n",
    "# Evaluación con RMSE en la escala original\n",
    "rmse_dummy = np.sqrt(mean_squared_error(y_val_original, y_pred_dummy_original))\n",
    "print(f\"RMSE (escala original): {rmse_dummy:,.2f} €\")\n",
    "\n",
    "# Evaluación con MAPE en la escala original\n",
    "mape_dummy = mean_absolute_percentage_error(y_val_original, y_pred_dummy_original) * 100\n",
    "print(f\"MAPE (escala original): {mape_dummy:.2f} %\")"
   ]
  },
  {
   "cell_type": "markdown",
   "metadata": {},
   "source": [
    "### Baseline\n",
    "Ahora que tenemos un modelo muy básico de referencia, realizo mi Baseline con varios modelos para regresión."
   ]
  },
  {
   "cell_type": "code",
   "execution_count": 8,
   "metadata": {},
   "outputs": [
    {
     "name": "stdout",
     "output_type": "stream",
     "text": [
      "\n",
      "Modelo: Regresión Lineal\n",
      "RMSE CV: 0.25\n",
      "RMSE val (original): 222,454.66 €\n",
      "MAPE val (original): 18.84 %\n",
      "\n",
      "Modelo: Ridge\n",
      "RMSE CV: 0.25\n",
      "RMSE val (original): 223,967.33 €\n",
      "MAPE val (original): 19.06 %\n",
      "\n",
      "Modelo: Lasso\n",
      "RMSE CV: 0.71\n",
      "RMSE val (original): 584,693.47 €\n",
      "MAPE val (original): 73.68 %\n",
      "\n",
      "Modelo: Random Forest\n",
      "RMSE CV: 0.24\n",
      "RMSE val (original): 251,388.97 €\n",
      "MAPE val (original): 16.97 %\n",
      "\n",
      "Modelo: Gradient Boosting\n",
      "RMSE CV: 0.24\n",
      "RMSE val (original): 210,003.32 €\n",
      "MAPE val (original): 17.46 %\n",
      "\n",
      "Modelo: SVR\n",
      "RMSE CV: 0.25\n",
      "RMSE val (original): 259,272.68 €\n",
      "MAPE val (original): 19.30 %\n",
      "\n",
      "Modelo: Regresión Bayesiana\n",
      "RMSE CV: 0.25\n",
      "RMSE val (original): 222,339.22 €\n",
      "MAPE val (original): 18.85 %\n"
     ]
    },
    {
     "data": {
      "image/png": "[encoded data removed]",
      "text/plain": [
       "<Figure size 1400x600 with 2 Axes>"
      ]
     },
     "metadata": {},
     "output_type": "display_data"
    }
   ],
   "source": [
    "# BASELINE modelos de regresión\n",
    "def evaluar_modelos(X_train, X_val, y_train, y_val, grafico_error=True):\n",
    "    \"\"\"\n",
    "    Evalúa múltiples modelos de regresión y devuelve métricas de error (RMSE y MAPE) en la escala original.\n",
    "    \n",
    "    Parámetros:\n",
    "        - X_train, X_val: Variables predictoras para entrenamiento y validación\n",
    "        - y_train, y_val: Variables objetivo en la escala logarítmica\n",
    "        - grafico_error (bool): Si es True, muestra los gráficos de comparación\n",
    "\n",
    "    Retorna:\n",
    "        - resultados (dict): Diccionario con las métricas de cada modelo\n",
    "    \"\"\"\n",
    "\n",
    "    # Definir modelos\n",
    "    modelos = {\n",
    "        'Regresión Lineal': LinearRegression(),\n",
    "        'Ridge': Ridge(),\n",
    "        'Lasso': Lasso(),\n",
    "        'Random Forest': RandomForestRegressor(random_state=42),\n",
    "        'Gradient Boosting': GradientBoostingRegressor(random_state=42),\n",
    "        'SVR': SVR(),\n",
    "        'Regresión Bayesiana': BayesianRidge()\n",
    "    }\n",
    "\n",
    "    resultados = {}\n",
    "\n",
    "    for nombre, modelo in modelos.items():\n",
    "        # Validación cruzada (CV) en la escala logarítmica\n",
    "        mse_cv = -cross_val_score(modelo, X_train, y_train, cv=5, scoring='neg_mean_squared_error')\n",
    "        rmse_cv = np.sqrt(mse_cv)\n",
    "\n",
    "        # Entrenamiento del modelo\n",
    "        modelo.fit(X_train, y_train)\n",
    "\n",
    "        # Predicciones en la escala logarítmica\n",
    "        y_pred_log = modelo.predict(X_val)\n",
    "\n",
    "        # Transformar a la escala original\n",
    "        y_val_original = np.exp(y_val)\n",
    "        y_pred_original = np.exp(y_pred_log)\n",
    "\n",
    "        # Evaluación en la escala original\n",
    "        rmse = np.sqrt(mean_squared_error(y_val_original, y_pred_original))\n",
    "        mape = mean_absolute_percentage_error(y_val_original, y_pred_original) * 100\n",
    "\n",
    "        # Guardar resultados\n",
    "        resultados[nombre] = {\n",
    "            'RMSE CV': rmse_cv.mean(),\n",
    "            'RMSE Val': rmse,\n",
    "            'MAPE Val': mape,\n",
    "            'Modelo': modelo\n",
    "        }\n",
    "\n",
    "        # Imprimir métricas\n",
    "        print(f\"\\nModelo: {nombre}\")\n",
    "        print(f\"RMSE CV: {rmse_cv.mean():,.2f}\")\n",
    "        print(f\"RMSE val (original): {rmse:,.2f} €\")\n",
    "        print(f\"MAPE val (original): {mape:.2f} %\")\n",
    "\n",
    "    # Si grafico_error es True, mostramos las comparaciones gráficas\n",
    "    if grafico_error:\n",
    "        nombres_modelos = list(resultados.keys())\n",
    "        rmse_valores = [resultados[m]['RMSE Val'] for m in nombres_modelos]\n",
    "        mape_valores = [resultados[m]['MAPE Val'] for m in nombres_modelos]\n",
    "\n",
    "        plt.figure(figsize=(14, 6))\n",
    "\n",
    "        # Gráfico RMSE\n",
    "        plt.subplot(1, 2, 1)\n",
    "        sns.barplot(x=nombres_modelos, y=rmse_valores)\n",
    "        plt.title('Comparación de RMSE por Modelo')\n",
    "        plt.xticks(rotation=45)\n",
    "        plt.ylabel('RMSE (Escala Original,€)')\n",
    "\n",
    "        # Gráfico MAPE\n",
    "        plt.subplot(1, 2, 2)\n",
    "        sns.barplot(x=nombres_modelos, y=mape_valores)\n",
    "        plt.title('Comparación de MAPE por Modelo')\n",
    "        plt.xticks(rotation=45)\n",
    "        plt.ylabel('MAPE (%)')\n",
    "\n",
    "        plt.tight_layout()\n",
    "        plt.show()\n",
    "\n",
    "    return resultados\n",
    "\n",
    "# Uso de la función\n",
    "resultados_modelos = evaluar_modelos(X_train, X_val, y_train, y_val, grafico_error=True)\n"
   ]
  },
  {
   "cell_type": "markdown",
   "metadata": {},
   "source": [
    "_Reduciendo nuestros datos a las 10 columnas seleccionadas por Feature Importance de Random Forest, los modelos mejoran muy, muy poco, apenas perceptible.  El mejor modelo, de momento, es Gradient Boosting, según el error RMSE. Aunque Random Forest tiene menor error medio porcentual (MAPE)_"
   ]
  }
 ],
 "metadata": {
  "kernelspec": {
   "display_name": ".venv",
   "language": "python",
   "name": "python3"
  },
  "language_info": {
   "codemirror_mode": {
    "name": "ipython",
    "version": 3
   },
   "file_extension": ".py",
   "mimetype": "text/x-python",
   "name": "python",
   "nbconvert_exporter": "python",
   "pygments_lexer": "ipython3",
   "version": "3.11.9"
  }
 },
 "nbformat": 4,
 "nbformat_minor": 2
}
