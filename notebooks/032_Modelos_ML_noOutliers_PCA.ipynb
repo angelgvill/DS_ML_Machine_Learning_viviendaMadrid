{
 "cells": [
  {
   "cell_type": "markdown",
   "metadata": {},
   "source": [
    "<a id=\"inicio-notebook\"></a>\n",
    "# Proyecto End to End de Machine Learning \n",
    "### Viviendas en venta en Madrid\n"
   ]
  },
  {
   "cell_type": "markdown",
   "metadata": {},
   "source": [
    "## 0. Librerías\n",
    " "
   ]
  },
  {
   "cell_type": "code",
   "execution_count": 1,
   "metadata": {},
   "outputs": [],
   "source": [
    "# importación agrupada de librerías necesarias en este notebook\n",
    "import pandas as pd\n",
    "import numpy as np\n",
    "\n",
    "\n",
    "import sys\n",
    "import os\n",
    "from datetime import date\n",
    "\n",
    "from scipy import stats\n",
    "from scipy.stats import chi2_contingency\n",
    "from PIL import Image\n",
    "from sklearn.model_selection import train_test_split\n",
    "from sklearn.dummy import DummyRegressor\n",
    "from sklearn.metrics import mean_squared_error, root_mean_squared_error, mean_absolute_percentage_error\n",
    "from sklearn.ensemble import RandomForestRegressor\n",
    "from sklearn.linear_model import LinearRegression, Ridge, Lasso, BayesianRidge\n",
    "from sklearn.ensemble import RandomForestRegressor, GradientBoostingRegressor\n",
    "from sklearn.neighbors import KNeighborsRegressor\n",
    "from sklearn.svm import SVR\n",
    "from sklearn.model_selection import cross_val_score\n",
    "\n",
    "import matplotlib.pyplot as plt\n",
    "import seaborn as sns\n",
    "\n",
    "#warnings.filterwarnings('ignore')\n",
    "\n",
    "# Añado el directorio padre (del que está este notebook) a sys.path\n",
    "sys.path.append(os.path.abspath('../'))\n",
    "from scripts.utils_agv import ini_inspec, crear_tabla_resumen, categoricas, numericas"
   ]
  },
  {
   "cell_type": "markdown",
   "metadata": {},
   "source": [
    "### Configuración para visualizaciones"
   ]
  },
  {
   "cell_type": "code",
   "execution_count": 2,
   "metadata": {},
   "outputs": [
    {
     "data": {
      "image/png": "[encoded data removed]",
      "text/html": [
       "<div style=\"vertical-align: middle;\"><strong>crest</strong> </div><div class=\"cmap\"><img alt=\"crest colormap\" title=\"crest\" style=\"border: 1px solid #555;\" src=\"data:image/png;base64,iVBORw0KGgoAAAANSUhEUgAAAgAAAABACAYAAABsv8+/AAAAFHRFWHRUaXRsZQBjcmVzdCBjb2xvcm1hcDDWw8gAAAAadEVYdERlc2NyaXB0aW9uAGNyZXN0IGNvbG9ybWFwzolqLgAAADF0RVh0QXV0aG9yAE1hdHBsb3RsaWIgdjMuMTAuMSwgaHR0cHM6Ly9tYXRwbG90bGliLm9yZxYcXggAAAAzdEVYdFNvZnR3YXJlAE1hdHBsb3RsaWIgdjMuMTAuMSwgaHR0cHM6Ly9tYXRwbG90bGliLm9yZ7M4TfwAAAHZSURBVHic7dY9VoNAGEBR4v4LF+FyXJN49BiLIeNg/GnevYUBHD4moXmXp+fHfdu27f3P2+fHwfL84/PlsO7yvTnbat5v7et6vv/PPibnL/vfzL0e/PR3G69v37xvW6y7/ufe77Oe/zvzjtf3P55/e//Xg+V7Ofv97/2es/3du4/Duv3kurPzJuez5wzn0+uHebcHjc8f7x+fc3wRq/XDRibrL3evv72fy2LO5/2HF/D1/Nk+V/tfzzt3fTv7vOl7Gu6f/s6TdcO2xuvzuZP9nLz/YdgeABAgAAAgSAAAQJAAAIAgAQAAQQIAAIIEAAAECQAACBIAABAkAAAgSAAAQJAAAIAgAQAAQQIAAIIEAAAECQAACBIAABAkAAAgSAAAQJAAAIAgAQAAQQIAAIIEAAAECQAACBIAABAkAAAgSAAAQJAAAIAgAQAAQQIAAIIEAAAECQAACBIAABAkAAAgSAAAQJAAAIAgAQAAQQIAAIIEAAAECQAACBIAABAkAAAgSAAAQJAAAIAgAQAAQQIAAIIEAAAECQAACBIAABAkAAAgSAAAQJAAAIAgAQAAQQIAAIIEAAAECQAACBIAABAkAAAgSAAAQJAAAIAgAQAAQQIAAIIEAAAEvQLbbEFbvsWooQAAAABJRU5ErkJggg==\"></div><div style=\"vertical-align: middle; max-width: 514px; display: flex; justify-content: space-between;\"><div style=\"float: left;\"><div title=\"#a5cd90ff\" style=\"display: inline-block; width: 1em; height: 1em; margin: 0; vertical-align: middle; border: 1px solid #555; background-color: #a5cd90ff;\"></div> under</div><div style=\"margin: 0 auto; display: inline-block;\">bad <div title=\"#00000000\" style=\"display: inline-block; width: 1em; height: 1em; margin: 0; vertical-align: middle; border: 1px solid #555; background-color: #00000000;\"></div></div><div style=\"float: right;\">over <div title=\"#2c3172ff\" style=\"display: inline-block; width: 1em; height: 1em; margin: 0; vertical-align: middle; border: 1px solid #555; background-color: #2c3172ff;\"></div></div></div>"
      ],
      "text/plain": [
       "<matplotlib.colors.ListedColormap at 0x133a47390>"
      ]
     },
     "execution_count": 2,
     "metadata": {},
     "output_type": "execute_result"
    }
   ],
   "source": [
    "plt.style.use('seaborn-v0_8-whitegrid')\n",
    "plt.rcParams['figure.figsize'] = (12, 6)\n",
    "plt.rcParams['font.size'] = 12\n",
    "sns.color_palette(\"crest\", as_cmap=True)"
   ]
  },
  {
   "cell_type": "markdown",
   "metadata": {},
   "source": [
    "<a id=\"baseline\"></a> \n",
    "## 17. ¿Qué modelos? Baseline"
   ]
  },
  {
   "cell_type": "markdown",
   "metadata": {},
   "source": [
    "(viene del notebook anterior, el conjunto de datos 'test' aquí NUNCA llegan los datos de test) He guardado los dataframe a probar en formato parquet.\n",
    "\n",
    "Primero, importamos el parquet que queremos probar en todos nuestros modelos."
   ]
  },
  {
   "cell_type": "markdown",
   "metadata": {},
   "source": [
    "**Dataframe sin outliers, df5 con las variables o características transformadas con PCA, y limitado al 95% de la varianza explicada**"
   ]
  },
  {
   "cell_type": "code",
   "execution_count": 3,
   "metadata": {},
   "outputs": [],
   "source": [
    "# introduzco aquí el Dataframe en cuestión \n",
    "file = 'train_sinOutliers_df5PCA.parquet'\n",
    "file_path = f'../data/processed/{file}' \n",
    "df = pd.read_parquet(file_path, engine=\"pyarrow\")"
   ]
  },
  {
   "cell_type": "code",
   "execution_count": 4,
   "metadata": {},
   "outputs": [
    {
     "data": {
      "text/html": [
       "<div>\n",
       "<style scoped>\n",
       "    .dataframe tbody tr th:only-of-type {\n",
       "        vertical-align: middle;\n",
       "    }\n",
       "\n",
       "    .dataframe tbody tr th {\n",
       "        vertical-align: top;\n",
       "    }\n",
       "\n",
       "    .dataframe thead th {\n",
       "        text-align: right;\n",
       "    }\n",
       "</style>\n",
       "<table border=\"1\" class=\"dataframe\">\n",
       "  <thead>\n",
       "    <tr style=\"text-align: right;\">\n",
       "      <th></th>\n",
       "      <th>priceLog</th>\n",
       "      <th>PC1</th>\n",
       "      <th>PC2</th>\n",
       "      <th>PC3</th>\n",
       "      <th>PC4</th>\n",
       "      <th>PC5</th>\n",
       "      <th>PC6</th>\n",
       "      <th>PC7</th>\n",
       "      <th>PC8</th>\n",
       "      <th>PC9</th>\n",
       "      <th>PC10</th>\n",
       "      <th>PC11</th>\n",
       "      <th>PC12</th>\n",
       "      <th>PC13</th>\n",
       "      <th>PC14</th>\n",
       "      <th>PC15</th>\n",
       "      <th>PC16</th>\n",
       "      <th>PC17</th>\n",
       "      <th>PC18</th>\n",
       "      <th>PC19</th>\n",
       "    </tr>\n",
       "    <tr>\n",
       "      <th>ID</th>\n",
       "      <th></th>\n",
       "      <th></th>\n",
       "      <th></th>\n",
       "      <th></th>\n",
       "      <th></th>\n",
       "      <th></th>\n",
       "      <th></th>\n",
       "      <th></th>\n",
       "      <th></th>\n",
       "      <th></th>\n",
       "      <th></th>\n",
       "      <th></th>\n",
       "      <th></th>\n",
       "      <th></th>\n",
       "      <th></th>\n",
       "      <th></th>\n",
       "      <th></th>\n",
       "      <th></th>\n",
       "      <th></th>\n",
       "      <th></th>\n",
       "    </tr>\n",
       "  </thead>\n",
       "  <tbody>\n",
       "    <tr>\n",
       "      <th>107526421</th>\n",
       "      <td>13.906265</td>\n",
       "      <td>2.103114</td>\n",
       "      <td>-1.698204</td>\n",
       "      <td>3.545112</td>\n",
       "      <td>-0.090094</td>\n",
       "      <td>-1.377033</td>\n",
       "      <td>-1.639007</td>\n",
       "      <td>-1.205345</td>\n",
       "      <td>2.728724</td>\n",
       "      <td>1.516274</td>\n",
       "      <td>2.535263</td>\n",
       "      <td>2.271264</td>\n",
       "      <td>3.221084</td>\n",
       "      <td>2.758554</td>\n",
       "      <td>-0.157792</td>\n",
       "      <td>-0.206483</td>\n",
       "      <td>-0.18905</td>\n",
       "      <td>-0.180025</td>\n",
       "      <td>0.335225</td>\n",
       "      <td>-0.59283</td>\n",
       "    </tr>\n",
       "  </tbody>\n",
       "</table>\n",
       "</div>"
      ],
      "text/plain": [
       "            priceLog       PC1       PC2       PC3       PC4       PC5  \\\n",
       "ID                                                                       \n",
       "107526421  13.906265  2.103114 -1.698204  3.545112 -0.090094 -1.377033   \n",
       "\n",
       "                PC6       PC7       PC8       PC9      PC10      PC11  \\\n",
       "ID                                                                      \n",
       "107526421 -1.639007 -1.205345  2.728724  1.516274  2.535263  2.271264   \n",
       "\n",
       "               PC12      PC13      PC14      PC15     PC16      PC17  \\\n",
       "ID                                                                     \n",
       "107526421  3.221084  2.758554 -0.157792 -0.206483 -0.18905 -0.180025   \n",
       "\n",
       "               PC18     PC19  \n",
       "ID                            \n",
       "107526421  0.335225 -0.59283  "
      ]
     },
     "execution_count": 4,
     "metadata": {},
     "output_type": "execute_result"
    }
   ],
   "source": [
    "#comprobación\n",
    "df.loc[[107526421], :]\n"
   ]
  },
  {
   "cell_type": "code",
   "execution_count": 5,
   "metadata": {},
   "outputs": [
    {
     "data": {
      "text/plain": [
       "(1337, 20)"
      ]
     },
     "execution_count": 5,
     "metadata": {},
     "output_type": "execute_result"
    }
   ],
   "source": [
    "df.shape"
   ]
  },
  {
   "cell_type": "markdown",
   "metadata": {},
   "source": [
    "Primeramente hago una separación de entrenamiento y validación, para evaluar mis modelos:"
   ]
  },
  {
   "cell_type": "code",
   "execution_count": 6,
   "metadata": {},
   "outputs": [],
   "source": [
    "X = df.drop(['priceLog'], axis=1)  # Eliminamos la variable objetivo\n",
    "y = df['priceLog']"
   ]
  },
  {
   "cell_type": "code",
   "execution_count": 7,
   "metadata": {},
   "outputs": [
    {
     "name": "stdout",
     "output_type": "stream",
     "text": [
      "Tamaño del conjunto de entrenamiento: (1069, 19)\n",
      "Tamaño del conjunto de validación: (268, 19)\n"
     ]
    }
   ],
   "source": [
    "X_train, X_val, y_train, y_val = train_test_split(X, y, test_size=0.2, random_state=42) \n",
    "\n",
    "print(f\"Tamaño del conjunto de entrenamiento: {X_train.shape}\")\n",
    "print(f\"Tamaño del conjunto de validación: {X_val.shape}\")"
   ]
  },
  {
   "cell_type": "code",
   "execution_count": 8,
   "metadata": {},
   "outputs": [
    {
     "name": "stdout",
     "output_type": "stream",
     "text": [
      "RMSE (escala original): 597,080.46 €\n",
      "MAPE (escala original): 69.13 %\n"
     ]
    }
   ],
   "source": [
    "# Modelo Dummy (Baseline)\n",
    "dummy = DummyRegressor(strategy=\"mean\")\n",
    "dummy.fit(X_train, y_train)\n",
    "\n",
    "# Predicción en la escala logarítmica\n",
    "y_pred_dummy_log = dummy.predict(X_val)\n",
    "\n",
    "# Transformar los valores a la escala original\n",
    "y_val_original = np.exp(y_val)  # Revertir log(price)\n",
    "y_pred_dummy_original = np.exp(y_pred_dummy_log)\n",
    "\n",
    "# Evaluación con RMSE en la escala original\n",
    "rmse_dummy = np.sqrt(mean_squared_error(y_val_original, y_pred_dummy_original))\n",
    "print(f\"RMSE (escala original): {rmse_dummy:,.2f} €\")\n",
    "\n",
    "# Evaluación con MAPE en la escala original\n",
    "mape_dummy = mean_absolute_percentage_error(y_val_original, y_pred_dummy_original) * 100\n",
    "print(f\"MAPE (escala original): {mape_dummy:.2f} %\")"
   ]
  },
  {
   "cell_type": "markdown",
   "metadata": {},
   "source": [
    "### Baseline\n",
    "Ahora que tenemos un modelo muy básico de referencia, realizo mi Baseline con varios modelos para regresión."
   ]
  },
  {
   "cell_type": "code",
   "execution_count": 9,
   "metadata": {},
   "outputs": [
    {
     "name": "stdout",
     "output_type": "stream",
     "text": [
      "\n",
      "Modelo: Regresión Lineal\n",
      "RMSE CV: 0.31\n",
      "RMSE val (original): 351,609.88 €\n",
      "MAPE val (original): 24.33 %\n",
      "\n",
      "Modelo: Ridge\n",
      "RMSE CV: 0.31\n",
      "RMSE val (original): 351,566.76 €\n",
      "MAPE val (original): 24.33 %\n",
      "\n",
      "Modelo: Lasso\n",
      "RMSE CV: 0.67\n",
      "RMSE val (original): 573,215.61 €\n",
      "MAPE val (original): 63.71 %\n",
      "\n",
      "Modelo: Random Forest\n",
      "RMSE CV: 0.29\n",
      "RMSE val (original): 295,823.06 €\n",
      "MAPE val (original): 21.67 %\n",
      "\n",
      "Modelo: Gradient Boosting\n",
      "RMSE CV: 0.29\n",
      "RMSE val (original): 316,289.39 €\n",
      "MAPE val (original): 23.24 %\n",
      "\n",
      "Modelo: SVR\n",
      "RMSE CV: 0.30\n",
      "RMSE val (original): 290,238.22 €\n",
      "MAPE val (original): 22.41 %\n",
      "\n",
      "Modelo: Regresión Bayesiana\n",
      "RMSE CV: 0.31\n",
      "RMSE val (original): 351,085.90 €\n",
      "MAPE val (original): 24.32 %\n",
      "\n",
      "Modelo: KNN Regressor\n",
      "RMSE CV: 0.37\n",
      "RMSE val (original): 344,767.71 €\n",
      "MAPE val (original): 29.30 %\n"
     ]
    },
    {
     "data": {
      "image/png": "[encoded data removed]",
      "text/plain": [
       "<Figure size 1400x600 with 2 Axes>"
      ]
     },
     "metadata": {},
     "output_type": "display_data"
    }
   ],
   "source": [
    "# BASELINE modelos de regresión\n",
    "def evaluar_modelos(X_train, X_val, y_train, y_val, grafico_error=True):\n",
    "    \"\"\"\n",
    "    Evalúa múltiples modelos de regresión y devuelve métricas de error (RMSE y MAPE) en la escala original.\n",
    "    \n",
    "    Parámetros:\n",
    "        - X_train, X_val: Variables predictoras para entrenamiento y validación\n",
    "        - y_train, y_val: Variables objetivo en la escala logarítmica\n",
    "        - grafico_error (bool): Si es True, muestra los gráficos de comparación\n",
    "\n",
    "    Retorna:\n",
    "        - resultados (dict): Diccionario con las métricas de cada modelo\n",
    "    \"\"\"\n",
    "\n",
    "    # Definir modelos\n",
    "    modelos = {\n",
    "        'Regresión Lineal': LinearRegression(),\n",
    "        'Ridge': Ridge(),\n",
    "        'Lasso': Lasso(),\n",
    "        'Random Forest': RandomForestRegressor(random_state=42),\n",
    "        'Gradient Boosting': GradientBoostingRegressor(random_state=42),\n",
    "        'SVR': SVR(),\n",
    "        'Regresión Bayesiana': BayesianRidge(),\n",
    "        'KNN Regressor': KNeighborsRegressor(n_neighbors=5)  # Nuevo modelo KNN\n",
    "    }\n",
    "\n",
    "    resultados = {}\n",
    "\n",
    "    for nombre, modelo in modelos.items():\n",
    "        # Validación cruzada (CV) en la escala logarítmica\n",
    "        mse_cv = -cross_val_score(modelo, X_train, y_train, cv=5, scoring='neg_mean_squared_error')\n",
    "        rmse_cv = np.sqrt(mse_cv)\n",
    "\n",
    "        # Entrenamiento del modelo\n",
    "        modelo.fit(X_train, y_train)\n",
    "\n",
    "        # Predicciones en la escala logarítmica\n",
    "        y_pred_log = modelo.predict(X_val)\n",
    "\n",
    "        # Transformar a la escala original\n",
    "        y_val_original = np.exp(y_val)\n",
    "        y_pred_original = np.exp(y_pred_log)\n",
    "\n",
    "        # Evaluación en la escala original\n",
    "        rmse = np.sqrt(mean_squared_error(y_val_original, y_pred_original))\n",
    "        mape = mean_absolute_percentage_error(y_val_original, y_pred_original) * 100\n",
    "\n",
    "        # Guardar resultados\n",
    "        resultados[nombre] = {\n",
    "            'RMSE CV': rmse_cv.mean(),\n",
    "            'RMSE Val': rmse,\n",
    "            'MAPE Val': mape,\n",
    "            'Modelo': modelo\n",
    "        }\n",
    "\n",
    "        # Imprimir métricas\n",
    "        print(f\"\\nModelo: {nombre}\")\n",
    "        print(f\"RMSE CV: {rmse_cv.mean():,.2f}\")\n",
    "        print(f\"RMSE val (original): {rmse:,.2f} €\")\n",
    "        print(f\"MAPE val (original): {mape:.2f} %\")\n",
    "\n",
    "    # Si grafico_error es True, mostramos las comparaciones gráficas\n",
    "    if grafico_error:\n",
    "        nombres_modelos = list(resultados.keys())\n",
    "        rmse_valores = [resultados[m]['RMSE Val'] for m in nombres_modelos]\n",
    "        mape_valores = [resultados[m]['MAPE Val'] for m in nombres_modelos]\n",
    "\n",
    "        plt.figure(figsize=(14, 6))\n",
    "\n",
    "        # Gráfico RMSE\n",
    "        plt.subplot(1, 2, 1)\n",
    "        sns.barplot(x=nombres_modelos, y=rmse_valores)\n",
    "        plt.title('Comparación de RMSE por Modelo')\n",
    "        plt.xticks(rotation=45)\n",
    "        plt.ylabel('RMSE (Escala Original,€)')\n",
    "\n",
    "        # Gráfico MAPE\n",
    "        plt.subplot(1, 2, 2)\n",
    "        sns.barplot(x=nombres_modelos, y=mape_valores)\n",
    "        plt.title('Comparación de MAPE por Modelo')\n",
    "        plt.xticks(rotation=45)\n",
    "        plt.ylabel('MAPE (%)')\n",
    "\n",
    "        plt.tight_layout()\n",
    "        plt.show()\n",
    "\n",
    "    return resultados\n",
    "\n",
    "# Uso de la función\n",
    "resultados_modelos = evaluar_modelos(X_train, X_val, y_train, y_val, grafico_error=True)\n"
   ]
  },
  {
   "cell_type": "markdown",
   "metadata": {},
   "source": [
    "_Empleando PCA el modelo no mejora, todos los resultados empeoran_"
   ]
  }
 ],
 "metadata": {
  "kernelspec": {
   "display_name": ".venv",
   "language": "python",
   "name": "python3"
  },
  "language_info": {
   "codemirror_mode": {
    "name": "ipython",
    "version": 3
   },
   "file_extension": ".py",
   "mimetype": "text/x-python",
   "name": "python",
   "nbconvert_exporter": "python",
   "pygments_lexer": "ipython3",
   "version": "3.11.9"
  }
 },
 "nbformat": 4,
 "nbformat_minor": 2
}
