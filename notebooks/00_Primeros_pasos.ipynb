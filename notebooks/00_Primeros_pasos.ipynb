{
 "cells": [
  {
   "cell_type": "markdown",
   "metadata": {},
   "source": [
    "# Proyecto End to End de Machine Learning \n",
    "### Viviendas en venta en Madrid\n"
   ]
  },
  {
   "cell_type": "markdown",
   "metadata": {},
   "source": [
    "![imagen idealista fachada](../img/imagenEDA_idealista-fachada.jpg)"
   ]
  },
  {
   "cell_type": "markdown",
   "metadata": {},
   "source": [
    "Se recaban datos de la web idealista, en febrero de 2025. Se trata de pisos en venta, de la ciudad de Madrid, sus 21 distritos. "
   ]
  },
  {
   "cell_type": "markdown",
   "metadata": {},
   "source": [
    "![imagen total viviendas idealista Madrid](../img/idealista_num_viv(02.03.2025).jpg)"
   ]
  },
  {
   "cell_type": "markdown",
   "metadata": {},
   "source": [
    "<img src=\"../img/idealista_num_viv(02.03.2025).jpg\" alt=\"imagen total viviendas idealista Madrid\" width=\"600\">"
   ]
  },
  {
   "cell_type": "markdown",
   "metadata": {},
   "source": [
    "Este primer jupiter notebook contiene todo lo relativo a la carga de los datos, mediante web scraping de la web idealista."
   ]
  },
  {
   "cell_type": "markdown",
   "metadata": {},
   "source": [
    "Llegará hasta el punto 3, donde se realiza la división en train y test, o eso creo"
   ]
  },
  {
   "cell_type": "markdown",
   "metadata": {},
   "source": [
    "## 0. Librerías\n",
    " "
   ]
  },
  {
   "cell_type": "code",
   "execution_count": null,
   "metadata": {},
   "outputs": [],
   "source": [
    "# importación agrupada de librerías necesarias en este notebook\n",
    "import pandas as pd\n",
    "import numpy as np\n",
    "\n",
    "import sys\n",
    "import os\n",
    "import re\n",
    "\n",
    "import urllib.request\n",
    "from PIL import Image\n",
    "from sklearn.model_selection import train_test_split\n",
    "\n",
    "import matplotlib.pyplot as plt\n",
    "import statsmodels.api as sm\n",
    "import seaborn as sns"
   ]
  },
  {
   "cell_type": "markdown",
   "metadata": {},
   "source": [
    "## 1. Carga datos"
   ]
  },
  {
   "cell_type": "markdown",
   "metadata": {},
   "source": [
    "### Datos anteriores, obtenidos desde Kaggle"
   ]
  },
  {
   "cell_type": "code",
   "execution_count": 2,
   "metadata": {},
   "outputs": [
    {
     "data": {
      "text/html": [
       "<div>\n",
       "<style scoped>\n",
       "    .dataframe tbody tr th:only-of-type {\n",
       "        vertical-align: middle;\n",
       "    }\n",
       "\n",
       "    .dataframe tbody tr th {\n",
       "        vertical-align: top;\n",
       "    }\n",
       "\n",
       "    .dataframe thead th {\n",
       "        text-align: right;\n",
       "    }\n",
       "</style>\n",
       "<table border=\"1\" class=\"dataframe\">\n",
       "  <thead>\n",
       "    <tr style=\"text-align: right;\">\n",
       "      <th></th>\n",
       "      <th>url</th>\n",
       "      <th>listingUrl</th>\n",
       "      <th>title</th>\n",
       "      <th>id</th>\n",
       "      <th>price</th>\n",
       "      <th>baths</th>\n",
       "      <th>rooms</th>\n",
       "      <th>sqft</th>\n",
       "      <th>description</th>\n",
       "      <th>address</th>\n",
       "      <th>typology</th>\n",
       "      <th>advertiserProfessionalName</th>\n",
       "      <th>advertiserName</th>\n",
       "    </tr>\n",
       "  </thead>\n",
       "  <tbody>\n",
       "    <tr>\n",
       "      <th>0</th>\n",
       "      <td>https://www.idealista.com/inmueble/104027174/</td>\n",
       "      <td>https://www.idealista.com/venta-viviendas/madr...</td>\n",
       "      <td>Piso en venta en calle de Villanueva</td>\n",
       "      <td>104027174</td>\n",
       "      <td>1920000</td>\n",
       "      <td>3</td>\n",
       "      <td>3</td>\n",
       "      <td>183</td>\n",
       "      <td>Residencia única con acabados de la más alta c...</td>\n",
       "      <td>Recoletos, Madrid</td>\n",
       "      <td>Pisos</td>\n",
       "      <td>Promora Madrid</td>\n",
       "      <td>Promora Madrid</td>\n",
       "    </tr>\n",
       "  </tbody>\n",
       "</table>\n",
       "</div>"
      ],
      "text/plain": [
       "                                             url  \\\n",
       "0  https://www.idealista.com/inmueble/104027174/   \n",
       "\n",
       "                                          listingUrl  \\\n",
       "0  https://www.idealista.com/venta-viviendas/madr...   \n",
       "\n",
       "                                  title         id    price  baths  rooms  \\\n",
       "0  Piso en venta en calle de Villanueva  104027174  1920000      3      3   \n",
       "\n",
       "   sqft                                        description            address  \\\n",
       "0   183  Residencia única con acabados de la más alta c...  Recoletos, Madrid   \n",
       "\n",
       "  typology advertiserProfessionalName  advertiserName  \n",
       "0    Pisos            Promora Madrid   Promora Madrid  "
      ]
     },
     "execution_count": 2,
     "metadata": {},
     "output_type": "execute_result"
    }
   ],
   "source": [
    "previo_ejemplo = pd.read_csv('../data/raw/idealista_Madrid_Kaggle.csv')\n",
    "previo_ejemplo.head(1)"
   ]
  },
  {
   "cell_type": "markdown",
   "metadata": {},
   "source": [
    "### Obtención de datos \"nuevos\": Web Scraping Idealista"
   ]
  },
  {
   "cell_type": "markdown",
   "metadata": {},
   "source": [
    "## 2. Definición del problema de Machine Learning"
   ]
  },
  {
   "cell_type": "markdown",
   "metadata": {},
   "source": [
    "Mi problema de ML consiste en 'predecir' el precio de una vivienda dadas sus características. A aplicar a viviendas nuevas que aparezcan, en el futuro (problema asociado a la evolución de los precios en el tiempo). Se trata entonces de un modelo de regeresión, sin series temporales ni redes neuronales. "
   ]
  },
  {
   "cell_type": "markdown",
   "metadata": {},
   "source": [
    "## 3. División en train y test\n",
    "(resevar una porción de los datos obtenidos para probar nuestros modelos)\n"
   ]
  },
  {
   "cell_type": "markdown",
   "metadata": {},
   "source": [
    "En este caso real, procede lo primero, guardar estos datos para test, sin tocarlos hasta el final. \n",
    "Por otro lado, en los datos que nos quedamos, separaremos en train y validation, para hacer las pruebas y escoger el mejor modelo, con el que predeciremos el conjunto reservado test al final."
   ]
  },
  {
   "cell_type": "code",
   "execution_count": 3,
   "metadata": {},
   "outputs": [
    {
     "ename": "NameError",
     "evalue": "name 'train_test_split' is not defined",
     "output_type": "error",
     "traceback": [
      "\u001b[31m---------------------------------------------------------------------------\u001b[39m",
      "\u001b[31mNameError\u001b[39m                                 Traceback (most recent call last)",
      "\u001b[36mCell\u001b[39m\u001b[36m \u001b[39m\u001b[32mIn[3]\u001b[39m\u001b[32m, line 1\u001b[39m\n\u001b[32m----> \u001b[39m\u001b[32m1\u001b[39m X_train, X_test, y_train, y_test = \u001b[43mtrain_test_split\u001b[49m(df.drop(\u001b[33m'\u001b[39m\u001b[33mtarget\u001b[39m\u001b[33m'\u001b[39m, axis=\u001b[32m1\u001b[39m),\n\u001b[32m      2\u001b[39m                                                     df[\u001b[33m'\u001b[39m\u001b[33mtarget\u001b[39m\u001b[33m'\u001b[39m],\n\u001b[32m      3\u001b[39m                                                     test_size=\u001b[32m0.2\u001b[39m,\n\u001b[32m      4\u001b[39m                                                     random_state=\u001b[32m42\u001b[39m)\n",
      "\u001b[31mNameError\u001b[39m: name 'train_test_split' is not defined"
     ]
    }
   ],
   "source": [
    "X_train, X_test, y_train, y_test = train_test_split(df.drop('target', axis=1),\n",
    "                                                    df['target'],\n",
    "                                                    test_size=0.2,\n",
    "                                                    random_state=42)"
   ]
  },
  {
   "cell_type": "markdown",
   "metadata": {},
   "source": [
    "## 4. Target"
   ]
  },
  {
   "cell_type": "markdown",
   "metadata": {},
   "source": [
    "Dentro de este primer analisis exploratorio de los datos, revisamos la target, para ver en nuestro problema de regresión, si esta tiene una distribución normal o asimétrica."
   ]
  },
  {
   "cell_type": "markdown",
   "metadata": {},
   "source": [
    "## 5. Comprensión de variables (features)"
   ]
  }
 ],
 "metadata": {
  "kernelspec": {
   "display_name": ".venv",
   "language": "python",
   "name": "python3"
  },
  "language_info": {
   "codemirror_mode": {
    "name": "ipython",
    "version": 3
   },
   "file_extension": ".py",
   "mimetype": "text/x-python",
   "name": "python",
   "nbconvert_exporter": "python",
   "pygments_lexer": "ipython3",
   "version": "3.11.9"
  }
 },
 "nbformat": 4,
 "nbformat_minor": 2
}
