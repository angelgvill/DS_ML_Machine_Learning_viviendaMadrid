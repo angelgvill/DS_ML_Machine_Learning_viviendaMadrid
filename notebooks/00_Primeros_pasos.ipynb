{
 "cells": [
  {
   "cell_type": "markdown",
   "metadata": {},
   "source": [
    "# Proyecto End to End de Machine Learning \n",
    "### Viviendas en venta en Madrid\n"
   ]
  },
  {
   "cell_type": "markdown",
   "metadata": {},
   "source": [
    "![imagen idealista fachada](../img/imagenEDA_idealista-fachada.jpg)"
   ]
  },
  {
   "cell_type": "markdown",
   "metadata": {},
   "source": [
    "Se recaban datos de la web idealista, en febrero de 2025. Se trata de pisos en venta, de la ciudad de Madrid, sus 21 distritos. "
   ]
  },
  {
   "cell_type": "markdown",
   "metadata": {},
   "source": [
    "![imagen total viviendas idealista Madrid](../img/idealista_num_viv(02.03.2025).jpg)"
   ]
  },
  {
   "cell_type": "markdown",
   "metadata": {},
   "source": [
    "<img src=\"../img/idealista_num_viv(02.03.2025).jpg\" alt=\"imagen total viviendas idealista Madrid\" width=\"600\">"
   ]
  },
  {
   "cell_type": "markdown",
   "metadata": {},
   "source": [
    "<img src=\"../img/idealista_num_viv(03.03.2025).jpg\" alt=\"imagen total viviendas idealista Madrid\" width=\"600\">"
   ]
  },
  {
   "cell_type": "markdown",
   "metadata": {},
   "source": [
    "El número de viviendas cambia diariamente, como era de suponer.\n",
    "Finalmente, voy a trabajar con las viviendas del distrito Centro, que en fecha de hoy (9-marzo-2025) son 1792. "
   ]
  },
  {
   "cell_type": "markdown",
   "metadata": {},
   "source": [
    "Este primer jupiter notebook contiene todo lo relativo a la carga de los datos, mediante web scraping de la web idealista."
   ]
  },
  {
   "cell_type": "markdown",
   "metadata": {},
   "source": [
    "Llegará hasta el punto 3, donde se realiza la división en train y test, o eso creo"
   ]
  },
  {
   "cell_type": "markdown",
   "metadata": {},
   "source": [
    "## 0. Librerías\n",
    " "
   ]
  },
  {
   "cell_type": "code",
   "execution_count": 1,
   "metadata": {},
   "outputs": [],
   "source": [
    "# importación agrupada de librerías necesarias en este notebook\n",
    "import pandas as pd\n",
    "import numpy as np\n",
    "\n",
    "import sys\n",
    "import os\n",
    "import re\n",
    "\n",
    "import urllib.request\n",
    "from PIL import Image\n",
    "from sklearn.model_selection import train_test_split\n",
    "\n",
    "import matplotlib.pyplot as plt\n",
    "import statsmodels.api as sm\n",
    "import seaborn as sns"
   ]
  },
  {
   "cell_type": "markdown",
   "metadata": {},
   "source": [
    "## 1. Carga datos"
   ]
  },
  {
   "cell_type": "markdown",
   "metadata": {},
   "source": [
    "### Datos anteriores, obtenidos desde Kaggle"
   ]
  },
  {
   "cell_type": "code",
   "execution_count": null,
   "metadata": {},
   "outputs": [
    {
     "data": {
      "text/html": [
       "<div>\n",
       "<style scoped>\n",
       "    .dataframe tbody tr th:only-of-type {\n",
       "        vertical-align: middle;\n",
       "    }\n",
       "\n",
       "    .dataframe tbody tr th {\n",
       "        vertical-align: top;\n",
       "    }\n",
       "\n",
       "    .dataframe thead th {\n",
       "        text-align: right;\n",
       "    }\n",
       "</style>\n",
       "<table border=\"1\" class=\"dataframe\">\n",
       "  <thead>\n",
       "    <tr style=\"text-align: right;\">\n",
       "      <th></th>\n",
       "      <th>url</th>\n",
       "      <th>listingUrl</th>\n",
       "      <th>title</th>\n",
       "      <th>id</th>\n",
       "      <th>price</th>\n",
       "      <th>baths</th>\n",
       "      <th>rooms</th>\n",
       "      <th>sqft</th>\n",
       "      <th>description</th>\n",
       "      <th>address</th>\n",
       "      <th>typology</th>\n",
       "      <th>advertiserProfessionalName</th>\n",
       "      <th>advertiserName</th>\n",
       "    </tr>\n",
       "  </thead>\n",
       "  <tbody>\n",
       "    <tr>\n",
       "      <th>0</th>\n",
       "      <td>https://www.idealista.com/inmueble/104027174/</td>\n",
       "      <td>https://www.idealista.com/venta-viviendas/madr...</td>\n",
       "      <td>Piso en venta en calle de Villanueva</td>\n",
       "      <td>104027174</td>\n",
       "      <td>1920000</td>\n",
       "      <td>3</td>\n",
       "      <td>3</td>\n",
       "      <td>183</td>\n",
       "      <td>Residencia única con acabados de la más alta c...</td>\n",
       "      <td>Recoletos, Madrid</td>\n",
       "      <td>Pisos</td>\n",
       "      <td>Promora Madrid</td>\n",
       "      <td>Promora Madrid</td>\n",
       "    </tr>\n",
       "  </tbody>\n",
       "</table>\n",
       "</div>"
      ],
      "text/plain": [
       "                                             url  \\\n",
       "0  https://www.idealista.com/inmueble/104027174/   \n",
       "\n",
       "                                          listingUrl  \\\n",
       "0  https://www.idealista.com/venta-viviendas/madr...   \n",
       "\n",
       "                                  title         id    price  baths  rooms  \\\n",
       "0  Piso en venta en calle de Villanueva  104027174  1920000      3      3   \n",
       "\n",
       "   sqft                                        description            address  \\\n",
       "0   183  Residencia única con acabados de la más alta c...  Recoletos, Madrid   \n",
       "\n",
       "  typology advertiserProfessionalName  advertiserName  \n",
       "0    Pisos            Promora Madrid   Promora Madrid  "
      ]
     },
     "execution_count": 5,
     "metadata": {},
     "output_type": "execute_result"
    }
   ],
   "source": [
    "previo_ejemplo = pd.read_csv('../data/raw/idealista_Madrid_Kaggle.csv')\n",
    "previo_ejemplo.head(1)"
   ]
  },
  {
   "cell_type": "markdown",
   "metadata": {},
   "source": [
    "### Obtención de datos \"nuevos\": Web Scraping Idealista"
   ]
  },
  {
   "cell_type": "code",
   "execution_count": 2,
   "metadata": {},
   "outputs": [
    {
     "data": {
      "text/html": [
       "<div>\n",
       "<style scoped>\n",
       "    .dataframe tbody tr th:only-of-type {\n",
       "        vertical-align: middle;\n",
       "    }\n",
       "\n",
       "    .dataframe tbody tr th {\n",
       "        vertical-align: top;\n",
       "    }\n",
       "\n",
       "    .dataframe thead th {\n",
       "        text-align: right;\n",
       "    }\n",
       "</style>\n",
       "<table border=\"1\" class=\"dataframe\">\n",
       "  <thead>\n",
       "    <tr style=\"text-align: right;\">\n",
       "      <th></th>\n",
       "      <th>propertyCode</th>\n",
       "      <th>thumbnail</th>\n",
       "      <th>externalReference</th>\n",
       "      <th>numPhotos</th>\n",
       "      <th>floor</th>\n",
       "      <th>price</th>\n",
       "      <th>priceInfo</th>\n",
       "      <th>propertyType</th>\n",
       "      <th>operation</th>\n",
       "      <th>size</th>\n",
       "      <th>...</th>\n",
       "      <th>has3DTour</th>\n",
       "      <th>has360</th>\n",
       "      <th>hasStaging</th>\n",
       "      <th>highlight</th>\n",
       "      <th>savedAd</th>\n",
       "      <th>notes</th>\n",
       "      <th>topNewDevelopment</th>\n",
       "      <th>topPlus</th>\n",
       "      <th>parkingSpace</th>\n",
       "      <th>newDevelopmentFinished</th>\n",
       "    </tr>\n",
       "  </thead>\n",
       "  <tbody>\n",
       "    <tr>\n",
       "      <th>0</th>\n",
       "      <td>107526421</td>\n",
       "      <td>https://img4.idealista.com/blur/WEB_LISTING/0/...</td>\n",
       "      <td>GH202391</td>\n",
       "      <td>43</td>\n",
       "      <td>3</td>\n",
       "      <td>1095000.0</td>\n",
       "      <td>{'price': {'amount': 1095000.0, 'currencySuffi...</td>\n",
       "      <td>flat</td>\n",
       "      <td>sale</td>\n",
       "      <td>146.0</td>\n",
       "      <td>...</td>\n",
       "      <td>True</td>\n",
       "      <td>False</td>\n",
       "      <td>False</td>\n",
       "      <td>{'groupDescription': 'Top+'}</td>\n",
       "      <td>{}</td>\n",
       "      <td>[]</td>\n",
       "      <td>False</td>\n",
       "      <td>True</td>\n",
       "      <td>NaN</td>\n",
       "      <td>NaN</td>\n",
       "    </tr>\n",
       "  </tbody>\n",
       "</table>\n",
       "<p>1 rows × 43 columns</p>\n",
       "</div>"
      ],
      "text/plain": [
       "   propertyCode                                          thumbnail  \\\n",
       "0     107526421  https://img4.idealista.com/blur/WEB_LISTING/0/...   \n",
       "\n",
       "  externalReference  numPhotos floor      price  \\\n",
       "0          GH202391         43     3  1095000.0   \n",
       "\n",
       "                                           priceInfo propertyType operation  \\\n",
       "0  {'price': {'amount': 1095000.0, 'currencySuffi...         flat      sale   \n",
       "\n",
       "    size  ... has3DTour  has360  hasStaging                     highlight  \\\n",
       "0  146.0  ...      True   False       False  {'groupDescription': 'Top+'}   \n",
       "\n",
       "  savedAd notes topNewDevelopment topPlus parkingSpace  newDevelopmentFinished  \n",
       "0      {}    []             False    True          NaN                     NaN  \n",
       "\n",
       "[1 rows x 43 columns]"
      ]
     },
     "execution_count": 2,
     "metadata": {},
     "output_type": "execute_result"
    }
   ],
   "source": [
    "viv_Mad = pd.read_csv('../data/raw/idealista_Madrid-Ciudad(Centro)_2025-03-10.csv')\n",
    "viv_Mad.head(1)"
   ]
  },
  {
   "cell_type": "code",
   "execution_count": null,
   "metadata": {},
   "outputs": [
    {
     "name": "stdout",
     "output_type": "stream",
     "text": [
      "<class 'pandas.core.frame.DataFrame'>\n",
      "RangeIndex: 1792 entries, 0 to 1791\n",
      "Data columns (total 43 columns):\n",
      " #   Column                  Non-Null Count  Dtype  \n",
      "---  ------                  --------------  -----  \n",
      " 0   propertyCode            1792 non-null   int64  \n",
      " 1   thumbnail               1777 non-null   object \n",
      " 2   externalReference       1351 non-null   object \n",
      " 3   numPhotos               1792 non-null   int64  \n",
      " 4   floor                   1727 non-null   object \n",
      " 5   price                   1792 non-null   float64\n",
      " 6   priceInfo               1792 non-null   object \n",
      " 7   propertyType            1792 non-null   object \n",
      " 8   operation               1792 non-null   object \n",
      " 9   size                    1792 non-null   float64\n",
      " 10  exterior                1768 non-null   object \n",
      " 11  rooms                   1792 non-null   int64  \n",
      " 12  bathrooms               1792 non-null   int64  \n",
      " 13  address                 1792 non-null   object \n",
      " 14  province                1792 non-null   object \n",
      " 15  municipality            1792 non-null   object \n",
      " 16  district                1792 non-null   object \n",
      " 17  country                 1792 non-null   object \n",
      " 18  neighborhood            1792 non-null   object \n",
      " 19  latitude                1792 non-null   float64\n",
      " 20  longitude               1792 non-null   float64\n",
      " 21  showAddress             1792 non-null   bool   \n",
      " 22  url                     1792 non-null   object \n",
      " 23  description             1792 non-null   object \n",
      " 24  hasVideo                1792 non-null   bool   \n",
      " 25  status                  1787 non-null   object \n",
      " 26  newDevelopment          1792 non-null   bool   \n",
      " 27  hasLift                 1786 non-null   object \n",
      " 28  priceByArea             1792 non-null   float64\n",
      " 29  change                  1792 non-null   object \n",
      " 30  detailedType            1792 non-null   object \n",
      " 31  suggestedTexts          1792 non-null   object \n",
      " 32  hasPlan                 1792 non-null   bool   \n",
      " 33  has3DTour               1792 non-null   bool   \n",
      " 34  has360                  1792 non-null   bool   \n",
      " 35  hasStaging              1792 non-null   bool   \n",
      " 36  highlight               781 non-null    object \n",
      " 37  savedAd                 1792 non-null   object \n",
      " 38  notes                   1792 non-null   object \n",
      " 39  topNewDevelopment       1792 non-null   bool   \n",
      " 40  topPlus                 1792 non-null   bool   \n",
      " 41  parkingSpace            98 non-null     object \n",
      " 42  newDevelopmentFinished  37 non-null     object \n",
      "dtypes: bool(9), float64(5), int64(4), object(25)\n",
      "memory usage: 491.9+ KB\n"
     ]
    }
   ],
   "source": [
    "# realizo siempre una copia para recuperar el df por si lo rompo\n",
    "df = viv_Mad.copy()\n",
    "df.info()"
   ]
  },
  {
   "cell_type": "markdown",
   "metadata": {},
   "source": [
    "## 2. Definición del problema de Machine Learning"
   ]
  },
  {
   "cell_type": "markdown",
   "metadata": {},
   "source": [
    "Mi problema de ML consiste en 'predecir' el precio de una vivienda dadas sus características. A aplicar a viviendas nuevas que aparezcan, en el futuro (problema asociado a la evolución de los precios en el tiempo). Se trata entonces de un modelo de regeresión, sin series temporales ni redes neuronales. "
   ]
  },
  {
   "cell_type": "markdown",
   "metadata": {},
   "source": [
    "## 3. División en train y test\n",
    "(resevar una porción de los datos obtenidos para probar nuestros modelos)\n"
   ]
  },
  {
   "cell_type": "markdown",
   "metadata": {},
   "source": [
    "En este caso real, procede lo primero, guardar estos datos para test, sin tocarlos hasta el final. \n",
    "Por otro lado, en los datos que nos quedamos, separaremos en train y validation, para hacer las pruebas y escoger el mejor modelo, con el que predeciremos el conjunto reservado test al final."
   ]
  },
  {
   "cell_type": "code",
   "execution_count": 31,
   "metadata": {},
   "outputs": [],
   "source": [
    "X_train, X_test, y_train, y_test = train_test_split(df.drop('price', axis=1),\n",
    "                                                    df['price'],\n",
    "                                                    test_size=0.2,\n",
    "                                                    random_state=42)"
   ]
  },
  {
   "cell_type": "markdown",
   "metadata": {},
   "source": [
    "## 4. Target"
   ]
  },
  {
   "cell_type": "markdown",
   "metadata": {},
   "source": [
    "Dentro de este primer analisis exploratorio de los datos, revisamos la target, para ver en nuestro problema de regresión, si esta tiene una distribución normal o asimétrica."
   ]
  },
  {
   "cell_type": "markdown",
   "metadata": {},
   "source": [
    "## 5. Comprensión de variables (features)"
   ]
  }
 ],
 "metadata": {
  "kernelspec": {
   "display_name": ".venv",
   "language": "python",
   "name": "python3"
  },
  "language_info": {
   "codemirror_mode": {
    "name": "ipython",
    "version": 3
   },
   "file_extension": ".py",
   "mimetype": "text/x-python",
   "name": "python",
   "nbconvert_exporter": "python",
   "pygments_lexer": "ipython3",
   "version": "3.11.9"
  }
 },
 "nbformat": 4,
 "nbformat_minor": 2
}
