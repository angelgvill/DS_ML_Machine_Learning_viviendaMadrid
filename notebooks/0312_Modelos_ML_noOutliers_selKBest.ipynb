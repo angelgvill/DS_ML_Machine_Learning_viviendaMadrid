{
 "cells": [
  {
   "cell_type": "markdown",
   "metadata": {},
   "source": [
    "<a id=\"inicio-notebook\"></a>\n",
    "# Proyecto End to End de Machine Learning \n",
    "### Viviendas en venta en Madrid\n"
   ]
  },
  {
   "cell_type": "markdown",
   "metadata": {},
   "source": [
    "## 0. Librerías\n",
    " "
   ]
  },
  {
   "cell_type": "code",
   "execution_count": 1,
   "metadata": {},
   "outputs": [],
   "source": [
    "# importación agrupada de librerías necesarias en este notebook\n",
    "import pandas as pd\n",
    "import numpy as np\n",
    "\n",
    "\n",
    "import sys\n",
    "import os\n",
    "from datetime import date\n",
    "\n",
    "from scipy import stats\n",
    "from scipy.stats import chi2_contingency\n",
    "from PIL import Image\n",
    "from sklearn.model_selection import train_test_split\n",
    "from sklearn.dummy import DummyRegressor\n",
    "from sklearn.metrics import mean_squared_error, root_mean_squared_error, mean_absolute_percentage_error\n",
    "from sklearn.ensemble import RandomForestRegressor\n",
    "from sklearn.linear_model import LinearRegression, Ridge, Lasso, BayesianRidge\n",
    "from sklearn.ensemble import RandomForestRegressor, GradientBoostingRegressor\n",
    "from sklearn.neighbors import KNeighborsRegressor\n",
    "from sklearn.svm import SVR\n",
    "from sklearn.model_selection import cross_val_score\n",
    "\n",
    "import matplotlib.pyplot as plt\n",
    "import seaborn as sns\n",
    "\n",
    "#warnings.filterwarnings('ignore')\n",
    "\n",
    "# Añado el directorio padre (del que está este notebook) a sys.path\n",
    "sys.path.append(os.path.abspath('../'))\n",
    "from scripts.utils_agv import ini_inspec, crear_tabla_resumen, categoricas, numericas"
   ]
  },
  {
   "cell_type": "markdown",
   "metadata": {},
   "source": [
    "### Configuración para visualizaciones"
   ]
  },
  {
   "cell_type": "code",
   "execution_count": 2,
   "metadata": {},
   "outputs": [
    {
     "data": {
      "image/png": "[encoded data removed]",
      "text/html": [
       "<div style=\"vertical-align: middle;\"><strong>crest</strong> </div><div class=\"cmap\"><img alt=\"crest colormap\" title=\"crest\" style=\"border: 1px solid #555;\" src=\"data:image/png;base64,iVBORw0KGgoAAAANSUhEUgAAAgAAAABACAYAAABsv8+/AAAAFHRFWHRUaXRsZQBjcmVzdCBjb2xvcm1hcDDWw8gAAAAadEVYdERlc2NyaXB0aW9uAGNyZXN0IGNvbG9ybWFwzolqLgAAADF0RVh0QXV0aG9yAE1hdHBsb3RsaWIgdjMuMTAuMSwgaHR0cHM6Ly9tYXRwbG90bGliLm9yZxYcXggAAAAzdEVYdFNvZnR3YXJlAE1hdHBsb3RsaWIgdjMuMTAuMSwgaHR0cHM6Ly9tYXRwbG90bGliLm9yZ7M4TfwAAAHZSURBVHic7dY9VoNAGEBR4v4LF+FyXJN49BiLIeNg/GnevYUBHD4moXmXp+fHfdu27f3P2+fHwfL84/PlsO7yvTnbat5v7et6vv/PPibnL/vfzL0e/PR3G69v37xvW6y7/ufe77Oe/zvzjtf3P55/e//Xg+V7Ofv97/2es/3du4/Duv3kurPzJuez5wzn0+uHebcHjc8f7x+fc3wRq/XDRibrL3evv72fy2LO5/2HF/D1/Nk+V/tfzzt3fTv7vOl7Gu6f/s6TdcO2xuvzuZP9nLz/YdgeABAgAAAgSAAAQJAAAIAgAQAAQQIAAIIEAAAECQAACBIAABAkAAAgSAAAQJAAAIAgAQAAQQIAAIIEAAAECQAACBIAABAkAAAgSAAAQJAAAIAgAQAAQQIAAIIEAAAECQAACBIAABAkAAAgSAAAQJAAAIAgAQAAQQIAAIIEAAAECQAACBIAABAkAAAgSAAAQJAAAIAgAQAAQQIAAIIEAAAECQAACBIAABAkAAAgSAAAQJAAAIAgAQAAQQIAAIIEAAAECQAACBIAABAkAAAgSAAAQJAAAIAgAQAAQQIAAIIEAAAECQAACBIAABAkAAAgSAAAQJAAAIAgAQAAQQIAAIIEAAAEvQLbbEFbvsWooQAAAABJRU5ErkJggg==\"></div><div style=\"vertical-align: middle; max-width: 514px; display: flex; justify-content: space-between;\"><div style=\"float: left;\"><div title=\"#a5cd90ff\" style=\"display: inline-block; width: 1em; height: 1em; margin: 0; vertical-align: middle; border: 1px solid #555; background-color: #a5cd90ff;\"></div> under</div><div style=\"margin: 0 auto; display: inline-block;\">bad <div title=\"#00000000\" style=\"display: inline-block; width: 1em; height: 1em; margin: 0; vertical-align: middle; border: 1px solid #555; background-color: #00000000;\"></div></div><div style=\"float: right;\">over <div title=\"#2c3172ff\" style=\"display: inline-block; width: 1em; height: 1em; margin: 0; vertical-align: middle; border: 1px solid #555; background-color: #2c3172ff;\"></div></div></div>"
      ],
      "text/plain": [
       "<matplotlib.colors.ListedColormap at 0x128647b50>"
      ]
     },
     "execution_count": 2,
     "metadata": {},
     "output_type": "execute_result"
    }
   ],
   "source": [
    "plt.style.use('seaborn-v0_8-whitegrid')\n",
    "plt.rcParams['figure.figsize'] = (12, 6)\n",
    "plt.rcParams['font.size'] = 12\n",
    "sns.color_palette(\"crest\", as_cmap=True)"
   ]
  },
  {
   "cell_type": "markdown",
   "metadata": {},
   "source": [
    "<a id=\"baseline\"></a> \n",
    "## 17. ¿Qué modelos? Baseline"
   ]
  },
  {
   "cell_type": "markdown",
   "metadata": {},
   "source": [
    "(viene del notebook anterior, el conjunto de datos 'test' aquí NUNCA llegan los datos de test) He guardado los dataframe a probar en formato parquet.\n",
    "\n",
    "Primero, importamos el parquet que queremos probar en todos nuestros modelos."
   ]
  },
  {
   "cell_type": "markdown",
   "metadata": {},
   "source": [
    "**Dataframe sin outliers, df5, solo con las 10 características seleccionadas con KBest**"
   ]
  },
  {
   "cell_type": "code",
   "execution_count": 3,
   "metadata": {},
   "outputs": [],
   "source": [
    "# introduzco aquí el Dataframe en cuestión \n",
    "file = 'train_sinOutliers_df5.parquet'\n",
    "file_path = f'../data/processed/{file}' \n",
    "df = pd.read_parquet(file_path, engine=\"pyarrow\")"
   ]
  },
  {
   "cell_type": "code",
   "execution_count": 4,
   "metadata": {},
   "outputs": [
    {
     "data": {
      "text/html": [
       "<div>\n",
       "<style scoped>\n",
       "    .dataframe tbody tr th:only-of-type {\n",
       "        vertical-align: middle;\n",
       "    }\n",
       "\n",
       "    .dataframe tbody tr th {\n",
       "        vertical-align: top;\n",
       "    }\n",
       "\n",
       "    .dataframe thead th {\n",
       "        text-align: right;\n",
       "    }\n",
       "</style>\n",
       "<table border=\"1\" class=\"dataframe\">\n",
       "  <thead>\n",
       "    <tr style=\"text-align: right;\">\n",
       "      <th></th>\n",
       "      <th>priceLog</th>\n",
       "      <th>terraza</th>\n",
       "      <th>floor</th>\n",
       "      <th>size</th>\n",
       "      <th>exterior</th>\n",
       "      <th>rooms</th>\n",
       "      <th>bathrooms</th>\n",
       "      <th>hasLift</th>\n",
       "      <th>barrio_Chueca-Justicia</th>\n",
       "      <th>barrio_Lavapiés-Embajadores</th>\n",
       "      <th>tipo_studio</th>\n",
       "    </tr>\n",
       "    <tr>\n",
       "      <th>ID</th>\n",
       "      <th></th>\n",
       "      <th></th>\n",
       "      <th></th>\n",
       "      <th></th>\n",
       "      <th></th>\n",
       "      <th></th>\n",
       "      <th></th>\n",
       "      <th></th>\n",
       "      <th></th>\n",
       "      <th></th>\n",
       "      <th></th>\n",
       "    </tr>\n",
       "  </thead>\n",
       "  <tbody>\n",
       "    <tr>\n",
       "      <th>105764161</th>\n",
       "      <td>13.554146</td>\n",
       "      <td>0</td>\n",
       "      <td>0.0</td>\n",
       "      <td>0.693188</td>\n",
       "      <td>1</td>\n",
       "      <td>0.578130</td>\n",
       "      <td>0.237845</td>\n",
       "      <td>0</td>\n",
       "      <td>0</td>\n",
       "      <td>0</td>\n",
       "      <td>0</td>\n",
       "    </tr>\n",
       "    <tr>\n",
       "      <th>105649259</th>\n",
       "      <td>13.891545</td>\n",
       "      <td>1</td>\n",
       "      <td>2.0</td>\n",
       "      <td>0.630708</td>\n",
       "      <td>1</td>\n",
       "      <td>0.578130</td>\n",
       "      <td>0.537493</td>\n",
       "      <td>1</td>\n",
       "      <td>1</td>\n",
       "      <td>0</td>\n",
       "      <td>0</td>\n",
       "    </tr>\n",
       "    <tr>\n",
       "      <th>106743824</th>\n",
       "      <td>14.603968</td>\n",
       "      <td>0</td>\n",
       "      <td>1.0</td>\n",
       "      <td>0.866369</td>\n",
       "      <td>1</td>\n",
       "      <td>0.747222</td>\n",
       "      <td>0.237845</td>\n",
       "      <td>1</td>\n",
       "      <td>0</td>\n",
       "      <td>0</td>\n",
       "      <td>0</td>\n",
       "    </tr>\n",
       "    <tr>\n",
       "      <th>105408030</th>\n",
       "      <td>12.560244</td>\n",
       "      <td>0</td>\n",
       "      <td>1.0</td>\n",
       "      <td>0.311003</td>\n",
       "      <td>0</td>\n",
       "      <td>0.289065</td>\n",
       "      <td>0.000000</td>\n",
       "      <td>1</td>\n",
       "      <td>0</td>\n",
       "      <td>0</td>\n",
       "      <td>0</td>\n",
       "    </tr>\n",
       "    <tr>\n",
       "      <th>106463569</th>\n",
       "      <td>13.697853</td>\n",
       "      <td>0</td>\n",
       "      <td>2.0</td>\n",
       "      <td>0.603131</td>\n",
       "      <td>1</td>\n",
       "      <td>0.578130</td>\n",
       "      <td>0.406598</td>\n",
       "      <td>1</td>\n",
       "      <td>0</td>\n",
       "      <td>0</td>\n",
       "      <td>0</td>\n",
       "    </tr>\n",
       "    <tr>\n",
       "      <th>107333147</th>\n",
       "      <td>14.652758</td>\n",
       "      <td>0</td>\n",
       "      <td>2.0</td>\n",
       "      <td>0.675097</td>\n",
       "      <td>1</td>\n",
       "      <td>0.578130</td>\n",
       "      <td>0.237845</td>\n",
       "      <td>1</td>\n",
       "      <td>1</td>\n",
       "      <td>0</td>\n",
       "      <td>0</td>\n",
       "    </tr>\n",
       "    <tr>\n",
       "      <th>107462893</th>\n",
       "      <td>12.468437</td>\n",
       "      <td>0</td>\n",
       "      <td>0.0</td>\n",
       "      <td>0.360236</td>\n",
       "      <td>1</td>\n",
       "      <td>0.289065</td>\n",
       "      <td>0.000000</td>\n",
       "      <td>0</td>\n",
       "      <td>0</td>\n",
       "      <td>0</td>\n",
       "      <td>0</td>\n",
       "    </tr>\n",
       "    <tr>\n",
       "      <th>107234286</th>\n",
       "      <td>12.706848</td>\n",
       "      <td>0</td>\n",
       "      <td>0.0</td>\n",
       "      <td>0.411136</td>\n",
       "      <td>1</td>\n",
       "      <td>0.458157</td>\n",
       "      <td>0.000000</td>\n",
       "      <td>0</td>\n",
       "      <td>0</td>\n",
       "      <td>0</td>\n",
       "      <td>0</td>\n",
       "    </tr>\n",
       "    <tr>\n",
       "      <th>107021222</th>\n",
       "      <td>12.899220</td>\n",
       "      <td>0</td>\n",
       "      <td>0.0</td>\n",
       "      <td>0.562083</td>\n",
       "      <td>1</td>\n",
       "      <td>0.458157</td>\n",
       "      <td>0.000000</td>\n",
       "      <td>1</td>\n",
       "      <td>0</td>\n",
       "      <td>1</td>\n",
       "      <td>0</td>\n",
       "    </tr>\n",
       "    <tr>\n",
       "      <th>104513354</th>\n",
       "      <td>12.506177</td>\n",
       "      <td>0</td>\n",
       "      <td>5.0</td>\n",
       "      <td>0.429031</td>\n",
       "      <td>1</td>\n",
       "      <td>0.289065</td>\n",
       "      <td>0.000000</td>\n",
       "      <td>1</td>\n",
       "      <td>0</td>\n",
       "      <td>1</td>\n",
       "      <td>0</td>\n",
       "    </tr>\n",
       "  </tbody>\n",
       "</table>\n",
       "</div>"
      ],
      "text/plain": [
       "            priceLog  terraza  floor      size  exterior     rooms  bathrooms  \\\n",
       "ID                                                                              \n",
       "105764161  13.554146        0    0.0  0.693188         1  0.578130   0.237845   \n",
       "105649259  13.891545        1    2.0  0.630708         1  0.578130   0.537493   \n",
       "106743824  14.603968        0    1.0  0.866369         1  0.747222   0.237845   \n",
       "105408030  12.560244        0    1.0  0.311003         0  0.289065   0.000000   \n",
       "106463569  13.697853        0    2.0  0.603131         1  0.578130   0.406598   \n",
       "107333147  14.652758        0    2.0  0.675097         1  0.578130   0.237845   \n",
       "107462893  12.468437        0    0.0  0.360236         1  0.289065   0.000000   \n",
       "107234286  12.706848        0    0.0  0.411136         1  0.458157   0.000000   \n",
       "107021222  12.899220        0    0.0  0.562083         1  0.458157   0.000000   \n",
       "104513354  12.506177        0    5.0  0.429031         1  0.289065   0.000000   \n",
       "\n",
       "           hasLift  barrio_Chueca-Justicia  barrio_Lavapiés-Embajadores  \\\n",
       "ID                                                                        \n",
       "105764161        0                       0                            0   \n",
       "105649259        1                       1                            0   \n",
       "106743824        1                       0                            0   \n",
       "105408030        1                       0                            0   \n",
       "106463569        1                       0                            0   \n",
       "107333147        1                       1                            0   \n",
       "107462893        0                       0                            0   \n",
       "107234286        0                       0                            0   \n",
       "107021222        1                       0                            1   \n",
       "104513354        1                       0                            1   \n",
       "\n",
       "           tipo_studio  \n",
       "ID                      \n",
       "105764161            0  \n",
       "105649259            0  \n",
       "106743824            0  \n",
       "105408030            0  \n",
       "106463569            0  \n",
       "107333147            0  \n",
       "107462893            0  \n",
       "107234286            0  \n",
       "107021222            0  \n",
       "104513354            0  "
      ]
     },
     "execution_count": 4,
     "metadata": {},
     "output_type": "execute_result"
    }
   ],
   "source": [
    "# (del notebook anterior) Listado de las mejores características correlacionadas con \"price\"\n",
    "seleccion_kbest = ['priceLog',\n",
    "        'terraza', 'floor', 'size', 'exterior', 'rooms', 'bathrooms', 'hasLift',\n",
    "       'barrio_Chueca-Justicia', 'barrio_Lavapiés-Embajadores', 'tipo_studio'\n",
    "]\n",
    "\n",
    "# Filtrar el DataFrame con solo esas columnas\n",
    "df = df[seleccion_kbest]\n",
    "df.head(10)"
   ]
  },
  {
   "cell_type": "code",
   "execution_count": 5,
   "metadata": {},
   "outputs": [
    {
     "data": {
      "text/plain": [
       "(1337, 11)"
      ]
     },
     "execution_count": 5,
     "metadata": {},
     "output_type": "execute_result"
    }
   ],
   "source": [
    "df.shape"
   ]
  },
  {
   "cell_type": "markdown",
   "metadata": {},
   "source": [
    "Primeramente hago una separación de entrenamiento y validación, para evaluar mis modelos:"
   ]
  },
  {
   "cell_type": "code",
   "execution_count": 6,
   "metadata": {},
   "outputs": [],
   "source": [
    "X = df.drop(['priceLog'], axis=1)  # Eliminamos la variable objetivo\n",
    "y = df['priceLog']"
   ]
  },
  {
   "cell_type": "code",
   "execution_count": 7,
   "metadata": {},
   "outputs": [
    {
     "name": "stdout",
     "output_type": "stream",
     "text": [
      "Tamaño del conjunto de entrenamiento: (1069, 10)\n",
      "Tamaño del conjunto de validación: (268, 10)\n"
     ]
    }
   ],
   "source": [
    "X_train, X_val, y_train, y_val = train_test_split(X, y, test_size=0.2, random_state=42) \n",
    "\n",
    "print(f\"Tamaño del conjunto de entrenamiento: {X_train.shape}\")\n",
    "print(f\"Tamaño del conjunto de validación: {X_val.shape}\")"
   ]
  },
  {
   "cell_type": "code",
   "execution_count": 8,
   "metadata": {},
   "outputs": [
    {
     "name": "stdout",
     "output_type": "stream",
     "text": [
      "RMSE (escala original): 584,693.47 €\n",
      "MAPE (escala original): 73.68 %\n"
     ]
    }
   ],
   "source": [
    "# Modelo Dummy (Baseline)\n",
    "dummy = DummyRegressor(strategy=\"mean\")\n",
    "dummy.fit(X_train, y_train)\n",
    "\n",
    "# Predicción en la escala logarítmica\n",
    "y_pred_dummy_log = dummy.predict(X_val)\n",
    "\n",
    "# Transformar los valores a la escala original\n",
    "y_val_original = np.exp(y_val)  # Revertir log(price)\n",
    "y_pred_dummy_original = np.exp(y_pred_dummy_log)\n",
    "\n",
    "# Evaluación con RMSE en la escala original\n",
    "rmse_dummy = np.sqrt(mean_squared_error(y_val_original, y_pred_dummy_original))\n",
    "print(f\"RMSE (escala original): {rmse_dummy:,.2f} €\")\n",
    "\n",
    "# Evaluación con MAPE en la escala original\n",
    "mape_dummy = mean_absolute_percentage_error(y_val_original, y_pred_dummy_original) * 100\n",
    "print(f\"MAPE (escala original): {mape_dummy:.2f} %\")"
   ]
  },
  {
   "cell_type": "markdown",
   "metadata": {},
   "source": [
    "### Baseline\n",
    "Ahora que tenemos un modelo muy básico de referencia, realizo mi Baseline con varios modelos para regresión."
   ]
  },
  {
   "cell_type": "code",
   "execution_count": 9,
   "metadata": {},
   "outputs": [
    {
     "name": "stdout",
     "output_type": "stream",
     "text": [
      "\n",
      "Modelo: Regresión Lineal\n",
      "RMSE CV: 0.25\n",
      "RMSE val (original): 230,186.06 €\n",
      "MAPE val (original): 18.86 %\n",
      "\n",
      "Modelo: Ridge\n",
      "RMSE CV: 0.26\n",
      "RMSE val (original): 232,291.31 €\n",
      "MAPE val (original): 19.19 %\n",
      "\n",
      "Modelo: Lasso\n",
      "RMSE CV: 0.71\n",
      "RMSE val (original): 584,693.47 €\n",
      "MAPE val (original): 73.68 %\n",
      "\n",
      "Modelo: Random Forest\n",
      "RMSE CV: 0.24\n",
      "RMSE val (original): 247,751.71 €\n",
      "MAPE val (original): 17.19 %\n",
      "\n",
      "Modelo: Gradient Boosting\n",
      "RMSE CV: 0.24\n",
      "RMSE val (original): 218,857.44 €\n",
      "MAPE val (original): 17.44 %\n",
      "\n",
      "Modelo: SVR\n",
      "RMSE CV: 0.26\n",
      "RMSE val (original): 260,148.84 €\n",
      "MAPE val (original): 19.11 %\n",
      "\n",
      "Modelo: Regresión Bayesiana\n",
      "RMSE CV: 0.25\n",
      "RMSE val (original): 230,143.17 €\n",
      "MAPE val (original): 18.88 %\n",
      "\n",
      "Modelo: KNN Regressor\n",
      "RMSE CV: 0.34\n",
      "RMSE val (original): 324,592.26 €\n",
      "MAPE val (original): 24.83 %\n"
     ]
    },
    {
     "data": {
      "image/png": "[encoded data removed]",
      "text/plain": [
       "<Figure size 1400x600 with 2 Axes>"
      ]
     },
     "metadata": {},
     "output_type": "display_data"
    }
   ],
   "source": [
    "# BASELINE modelos de regresión\n",
    "def evaluar_modelos(X_train, X_val, y_train, y_val, grafico_error=True):\n",
    "    \"\"\"\n",
    "    Evalúa múltiples modelos de regresión y devuelve métricas de error (RMSE y MAPE) en la escala original.\n",
    "    \n",
    "    Parámetros:\n",
    "        - X_train, X_val: Variables predictoras para entrenamiento y validación\n",
    "        - y_train, y_val: Variables objetivo en la escala logarítmica\n",
    "        - grafico_error (bool): Si es True, muestra los gráficos de comparación\n",
    "\n",
    "    Retorna:\n",
    "        - resultados (dict): Diccionario con las métricas de cada modelo\n",
    "    \"\"\"\n",
    "\n",
    "    # Definir modelos\n",
    "    modelos = {\n",
    "        'Regresión Lineal': LinearRegression(),\n",
    "        'Ridge': Ridge(),\n",
    "        'Lasso': Lasso(),\n",
    "        'Random Forest': RandomForestRegressor(random_state=42),\n",
    "        'Gradient Boosting': GradientBoostingRegressor(random_state=42),\n",
    "        'SVR': SVR(),\n",
    "        'Regresión Bayesiana': BayesianRidge(),\n",
    "        'KNN Regressor': KNeighborsRegressor(n_neighbors=5)  # Nuevo modelo KNN\n",
    "    }\n",
    "\n",
    "    resultados = {}\n",
    "\n",
    "    for nombre, modelo in modelos.items():\n",
    "        # Validación cruzada (CV) en la escala logarítmica\n",
    "        mse_cv = -cross_val_score(modelo, X_train, y_train, cv=5, scoring='neg_mean_squared_error')\n",
    "        rmse_cv = np.sqrt(mse_cv)\n",
    "\n",
    "        # Entrenamiento del modelo\n",
    "        modelo.fit(X_train, y_train)\n",
    "\n",
    "        # Predicciones en la escala logarítmica\n",
    "        y_pred_log = modelo.predict(X_val)\n",
    "\n",
    "        # Transformar a la escala original\n",
    "        y_val_original = np.exp(y_val)\n",
    "        y_pred_original = np.exp(y_pred_log)\n",
    "\n",
    "        # Evaluación en la escala original\n",
    "        rmse = np.sqrt(mean_squared_error(y_val_original, y_pred_original))\n",
    "        mape = mean_absolute_percentage_error(y_val_original, y_pred_original) * 100\n",
    "\n",
    "        # Guardar resultados\n",
    "        resultados[nombre] = {\n",
    "            'RMSE CV': rmse_cv.mean(),\n",
    "            'RMSE Val': rmse,\n",
    "            'MAPE Val': mape,\n",
    "            'Modelo': modelo\n",
    "        }\n",
    "\n",
    "        # Imprimir métricas\n",
    "        print(f\"\\nModelo: {nombre}\")\n",
    "        print(f\"RMSE CV: {rmse_cv.mean():,.2f}\")\n",
    "        print(f\"RMSE val (original): {rmse:,.2f} €\")\n",
    "        print(f\"MAPE val (original): {mape:.2f} %\")\n",
    "\n",
    "    # Si grafico_error es True, mostramos las comparaciones gráficas\n",
    "    if grafico_error:\n",
    "        nombres_modelos = list(resultados.keys())\n",
    "        rmse_valores = [resultados[m]['RMSE Val'] for m in nombres_modelos]\n",
    "        mape_valores = [resultados[m]['MAPE Val'] for m in nombres_modelos]\n",
    "\n",
    "        plt.figure(figsize=(14, 6))\n",
    "\n",
    "        # Gráfico RMSE\n",
    "        plt.subplot(1, 2, 1)\n",
    "        sns.barplot(x=nombres_modelos, y=rmse_valores)\n",
    "        plt.title('Comparación de RMSE por Modelo')\n",
    "        plt.xticks(rotation=45)\n",
    "        plt.ylabel('RMSE (Escala Original,€)')\n",
    "\n",
    "        # Gráfico MAPE\n",
    "        plt.subplot(1, 2, 2)\n",
    "        sns.barplot(x=nombres_modelos, y=mape_valores)\n",
    "        plt.title('Comparación de MAPE por Modelo')\n",
    "        plt.xticks(rotation=45)\n",
    "        plt.ylabel('MAPE (%)')\n",
    "\n",
    "        plt.tight_layout()\n",
    "        plt.show()\n",
    "\n",
    "    return resultados\n",
    "\n",
    "# Uso de la función\n",
    "resultados_modelos = evaluar_modelos(X_train, X_val, y_train, y_val, grafico_error=True)\n"
   ]
  },
  {
   "cell_type": "markdown",
   "metadata": {},
   "source": [
    "_Reduciendo nuestros datos a las 10 columnas seleccionadas por método estadístico Select K Best, los modelos no mejoran, sino que empeoran ligeramente, unicamente mejora sensiblemente en el error RMSE el modelo Regresión Lineal_"
   ]
  }
 ],
 "metadata": {
  "kernelspec": {
   "display_name": ".venv",
   "language": "python",
   "name": "python3"
  },
  "language_info": {
   "codemirror_mode": {
    "name": "ipython",
    "version": 3
   },
   "file_extension": ".py",
   "mimetype": "text/x-python",
   "name": "python",
   "nbconvert_exporter": "python",
   "pygments_lexer": "ipython3",
   "version": "3.11.9"
  }
 },
 "nbformat": 4,
 "nbformat_minor": 2
}
